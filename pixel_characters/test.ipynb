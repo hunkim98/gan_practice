{
 "cells": [
  {
   "cell_type": "markdown",
   "metadata": {},
   "source": [
    "https://www.kaggle.com/code/keithrek/pok-mon-generator-dcgan-pytorch"
   ]
  },
  {
   "cell_type": "code",
   "execution_count": 5,
   "metadata": {},
   "outputs": [],
   "source": [
    "!export LD_LIBRARY_PATH=/usr/local/cuda-10.2/lib64:$LD_LIBRARY_PATH\n",
    "!export PATH=/usr/local/cuda-10.2/bin:$PATH"
   ]
  },
  {
   "cell_type": "code",
   "execution_count": 6,
   "metadata": {},
   "outputs": [
    {
     "name": "stdout",
     "output_type": "stream",
     "text": [
      "nvcc: NVIDIA (R) Cuda compiler driver\n",
      "Copyright (c) 2005-2020 NVIDIA Corporation\n",
      "Built on Tue_Sep_15_19:10:02_PDT_2020\n",
      "Cuda compilation tools, release 11.1, V11.1.74\n",
      "Build cuda_11.1.TC455_06.29069683_0\n"
     ]
    }
   ],
   "source": [
    "!nvcc --version"
   ]
  },
  {
   "cell_type": "code",
   "execution_count": 2,
   "metadata": {},
   "outputs": [
    {
     "name": "stdout",
     "output_type": "stream",
     "text": [
      "Random Seed:  3716\n"
     ]
    },
    {
     "data": {
      "text/plain": [
       "<torch._C.Generator at 0x7ff4bf7cb090>"
      ]
     },
     "execution_count": 2,
     "metadata": {},
     "output_type": "execute_result"
    }
   ],
   "source": [
    "from __future__ import print_function\n",
    "\n",
    "from PIL import Image\n",
    "from IPython.display import HTML\n",
    "\n",
    "import os\n",
    "import torch\n",
    "import random\n",
    "import argparse\n",
    "import torch.utils.data\n",
    "import torch.nn.parallel\n",
    "\n",
    "import numpy as np\n",
    "import torch.nn as nn\n",
    "import torch.optim as optim\n",
    "import matplotlib.pyplot as plt\n",
    "import torchvision.utils as vutils\n",
    "import torchvision.datasets as dset\n",
    "import torch.backends.cudnn as cudnn\n",
    "import matplotlib.animation as animation\n",
    "import torchvision.transforms as transforms\n",
    "\n",
    "manualSeed = random.randint(1, 10000)\n",
    "print(\"Random Seed: \", manualSeed)\n",
    "random.seed(manualSeed)\n",
    "torch.manual_seed(manualSeed)"
   ]
  },
  {
   "cell_type": "code",
   "execution_count": null,
   "metadata": {},
   "outputs": [],
   "source": [
    "dir_pokemon = \"pokemon\"\n",
    "\n",
    "# Number of workers for pytorch dataloader\n",
    "num_workers = 2\n",
    "\n",
    "image_dim = 500\n",
    "color_dim = 3\n",
    "\n",
    "latent_dim = 128\n",
    "\n",
    "generator_feature_dim = 64 # we will change size to 64\n",
    "discriminator_feature_dim = 64 # we will change size to 64\n",
    "\n",
    "num_epochs = 400\n",
    "\n",
    "lr = 0.0002\n",
    "beta1 = 0.5\n",
    "\n",
    "# Number of GPUs available\n",
    "num_gpus = 1\n",
    "\n",
    "batch_size = 64"
   ]
  }
 ],
 "metadata": {
  "kernelspec": {
   "display_name": ".venv",
   "language": "python",
   "name": "python3"
  },
  "language_info": {
   "codemirror_mode": {
    "name": "ipython",
    "version": 3
   },
   "file_extension": ".py",
   "mimetype": "text/x-python",
   "name": "python",
   "nbconvert_exporter": "python",
   "pygments_lexer": "ipython3",
   "version": "3.8.12"
  },
  "orig_nbformat": 4
 },
 "nbformat": 4,
 "nbformat_minor": 2
}
