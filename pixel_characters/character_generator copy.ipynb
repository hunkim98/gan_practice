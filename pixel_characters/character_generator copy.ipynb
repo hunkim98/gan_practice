{
 "cells": [
  {
   "cell_type": "code",
   "execution_count": 1,
   "metadata": {},
   "outputs": [],
   "source": [
    "import torch\n",
    "from torch import nn\n",
    "\n",
    "import matplotlib.pyplot as plt"
   ]
  },
  {
   "cell_type": "code",
   "execution_count": 2,
   "metadata": {},
   "outputs": [
    {
     "data": {
      "text/plain": [
       "<torch._C.Generator at 0x7fc0061ff8f0>"
      ]
     },
     "execution_count": 2,
     "metadata": {},
     "output_type": "execute_result"
    }
   ],
   "source": [
    "torch.manual_seed(111)"
   ]
  },
  {
   "cell_type": "code",
   "execution_count": 3,
   "metadata": {},
   "outputs": [],
   "source": [
    "device = \"\"\n",
    "if torch.cuda.is_available():\n",
    "    device = torch.device(\"cuda:0\")\n",
    "else:\n",
    "    device = torch.device(\"cpu\")"
   ]
  },
  {
   "cell_type": "code",
   "execution_count": 4,
   "metadata": {},
   "outputs": [],
   "source": [
    "from PIL import Image, ImageFont, ImageDraw\n",
    "import numpy as np\n",
    "import pandas as pd\n",
    "import os\n"
   ]
  },
  {
   "cell_type": "code",
   "execution_count": 5,
   "metadata": {},
   "outputs": [
    {
     "name": "stdout",
     "output_type": "stream",
     "text": [
      "['8bit_characters/leonardo_5935302653_o.jpg', '8bit_characters/mysterio_5938497845_o.jpg', '8bit_characters/john-bender_5947476192_o.jpg', '8bit_characters/wheeljack_5982213732_o.jpg', '8bit_characters/spikor_5921532302_o.jpg', '8bit_characters/samus-aran-power-suit_6024447687_o.jpg', '8bit_characters/allison-reynolds_5947475934_o.jpg', '8bit_characters/calypso_5994982128_o.jpg', '8bit_characters/michaelangelo_5935302777_o.jpg', '8bit_characters/neytiri_5925081796_o.jpg', '8bit_characters/mortimer-shadow_5994422753_o.jpg', '8bit_characters/iceman_5938072442_o.jpg', '8bit_characters/lobot_5930961478_o.jpg', '8bit_characters/krista-sparks-grasshopper_5994422531_o.jpg', '8bit_characters/pee-wee-herman_5942000962_o.jpg', '8bit_characters/leeloo_5935305091_o.jpg', '8bit_characters/bamm-bamm_5991957878_o.jpg', '8bit_characters/arwen_5955334313_o.jpg', '8bit_characters/bride-of-frankenstien_5939327360_o.jpg', '8bit_characters/samwise-gamgee_5955895448_o.jpg', '8bit_characters/smitty_5954638305_o.jpg', '8bit_characters/padme-clone-wars_5930402071_o.jpg', '8bit_characters/mr-t_5924519677_o.jpg', '8bit_characters/abyss_6012110345_o.jpg', '8bit_characters/phoenix_5938071900_o.jpg', '8bit_characters/stass-allie_5930406427_o.jpg', '8bit_characters/stormshadow_5958446283_o.jpg', '8bit_characters/michael-myers_5939327638_o.jpg', '8bit_characters/cyclops_5938072872_o.jpg', '8bit_characters/juggernaut_5938072076_o.jpg', '8bit_characters/justin-bailey_6025002870_o.jpg', '8bit_characters/lt-commander-geordi-le-forge_5941912256_o.jpg', '8bit_characters/vega_5925456244_o.jpg', '8bit_characters/galactus_5950960135_o.jpg', '8bit_characters/han-solo_5930961794_o.jpg', '8bit_characters/zam-wessell_5930402557_o.jpg', '8bit_characters/severus-snape_5957051340_o.jpg', '8bit_characters/ravishing-rick-rude_5983373573_o.jpg', '8bit_characters/gizmo_5957091936_o.jpg', '8bit_characters/drk1-probe-droid_5930959320_o.jpg', '8bit_characters/cervantes_6012110567_o.jpg', '8bit_characters/lucius-malfoy_5957051414_o.jpg', '8bit_characters/superman_5939052004_o.jpg', '8bit_characters/hermes-conrad_5941791118_o.jpg', '8bit_characters/snake-eyes_5958445919_o.jpg', '8bit_characters/andrew-clark_5947476122_o.jpg', '8bit_characters/lion-o_5922278221_o.jpg', '8bit_characters/marty-mcfly-2015_5937808053_o.jpg', '8bit_characters/doc-brown_5937807975_o.jpg', '8bit_characters/red-skull_5950960089_o.jpg', '8bit_characters/chancellor-palpatine-burned_5930960628_o.jpg', '8bit_characters/ninjor_5920966413_o.jpg', '8bit_characters/fred_5944784828_o.jpg', '8bit_characters/optimus-prime_5982213642_o.jpg', '8bit_characters/nute-gunray_5930402185_o.jpg', '8bit_characters/evil-lyn_5921532646_o.jpg', '8bit_characters/asajj-ventress_5930960896_o.jpg', '8bit_characters/gertie_5945095695_o.jpg', '8bit_characters/link-zora-suit_6019454760_o.jpg', '8bit_characters/green-goblin_5939052126_o.jpg', '8bit_characters/krang_5980167622_o.jpg', '8bit_characters/george-the-animal-steele_5983935940_o.jpg', '8bit_characters/king-randor_5920966935_o.jpg', '8bit_characters/admiral-thrawn_5930403977_o.jpg', '8bit_characters/scarlett_5958445729_o.jpg', '8bit_characters/aerith-gainsborogh_6016600686_o.jpg', '8bit_characters/midna-cat_6018902639_o.jpg', '8bit_characters/bellatrix-lestrange_5957051378_o.jpg', '8bit_characters/michael-knight_5942000856_o.jpg', '8bit_characters/general-veers_5930960364_o.jpg', '8bit_characters/legolas_5955895218_o.jpg', '8bit_characters/aurra-sing_5930959016_o.jpg', '8bit_characters/superfly-jimmy-snuka_5983936088_o.jpg', '8bit_characters/symbiote-spiderman_5939052384_o.jpg', '8bit_characters/shawn-michaels_5983936304_o.jpg', '8bit_characters/sgt-slaughter_5983373205_o.jpg', '8bit_characters/night-owl_5988154746_o.jpg', '8bit_characters/marty-mcfly_5938364682_o.jpg', '8bit_characters/republic-guard_5930404053_o.jpg', '8bit_characters/pit-droid_5930959292_o.jpg', '8bit_characters/big-sister_5986136793_o.jpg', '8bit_characters/papa-shango_5983935316_o.jpg', '8bit_characters/wilma-flintstone_5991958066_o.jpg', '8bit_characters/donnie_5935815733_o.jpg', '8bit_characters/rogue_5937516159_o.jpg', '8bit_characters/leech_5923283544_o.jpg', '8bit_characters/hannibal_5925081656_o.jpg', '8bit_characters/butthead_5980040498_o.jpg', '8bit_characters/obiwan-kenobi-ghost_5930962452_o.jpg', '8bit_characters/jek-porkins_5930404645_o.jpg', '8bit_characters/hulk-hogan_5983936628_o.jpg', '8bit_characters/mad-eye-moody_5957051612_o.jpg', '8bit_characters/voltron_5978626013_o.jpg', '8bit_characters/god_of_war.jpg', '8bit_characters/deku-link_6018902021_o.jpg', '8bit_characters/cliffjumper_5981652505_o.jpg', '8bit_characters/hellboy_5955320874_o.jpg', '8bit_characters/rorschach_5988154794_o.jpg', '8bit_characters/marge-simpson_5935302863_o.jpg', '8bit_characters/voltron.jpg', '8bit_characters/bail-organa_5930401961_o.jpg', '8bit_characters/quicksilver_5938192133_o.jpg', '8bit_characters/freddy-krueger_5937808395_o.jpg', '8bit_characters/zasalamel_6012657562_o.jpg', '8bit_characters/king-hiss_5923283474_o.jpg', '8bit_characters/serpentor_5959005900_o.jpg', '8bit_characters/ellen-ripley_5947476498_o.jpg', '8bit_characters/leela_5941230027_o.jpg', '8bit_characters/princess-ruto_6018902389_o.jpg', '8bit_characters/haku_5983935514_o.jpg', '8bit_characters/guy-manuel-de-homem-christo_5945447876_o.jpg', '8bit_characters/darth-bane_5930404571_o.jpg', '8bit_characters/lurtz_5955334719_o.jpg', '8bit_characters/sweet-clyde-dixon_5976110119_o.jpg', '8bit_characters/the-joker_5935799451_o.jpg', '8bit_characters/fisto_5920966955_o.jpg', '8bit_characters/two-bad_5921532346_o.jpg', '8bit_characters/luitenant-worf_5941912216_o.jpg', '8bit_characters/nikoli-volkoff_5983935286_o.jpg', '8bit_characters/peso_5978593973_o.jpg', '8bit_characters/leatherface_5938774903_o.jpg', '8bit_characters/siegfried_6012110871_o.jpg', '8bit_characters/clone-trooper_5930403469_o.jpg', '8bit_characters/junkyard-dog_5983936048_o.jpg', '8bit_characters/ash_5992054461_o.jpg', '8bit_characters/pennywise_5939327530_o.jpg', '8bit_characters/she-hulk_5938746332_o.jpg', '8bit_characters/cheetarah_5922278035_o.jpg', '8bit_characters/wesley-crusher_5941351015_o.jpg', '8bit_characters/samus-aran-phazon-suit_6025002566_o.jpg', '8bit_characters/dipp_5978593111_o.jpg', '8bit_characters/silk-spectre_5987591935_o.jpg', '8bit_characters/bumblebee_5981652387_o.jpg', '8bit_characters/fry_5941791280_o.jpg', '8bit_characters/r4e1_5930402933_o.jpg', '8bit_characters/r4a22_5930402961_o.jpg', '8bit_characters/spawn_5987591741_o.jpg', '8bit_characters/june_5978593927_o.jpg', '8bit_characters/uruk-hai_5955895766_o.jpg', '8bit_characters/taki_6012658022_o.jpg', '8bit_characters/brian-johnson_5946922427_o.jpg', '8bit_characters/guts-man_6024448189_o.jpg', '8bit_characters/necrid_6012110471_o.jpg', '8bit_characters/predator_5947476864_o.jpg', '8bit_characters/war-machine_5938746432_o.jpg', '8bit_characters/shaak-ti_5930963088_o.jpg', '8bit_characters/harry-potter_5957051986_o.jpg', '8bit_characters/shiek_6019454962_o.jpg', '8bit_characters/darth-vader-redemption_5930960728_o.jpg', '8bit_characters/kobra-khan_5923283414_o.jpg', '8bit_characters/fred-flintstone_5991400979_o.jpg', '8bit_characters/uruk-hai-bererker_5955895850_o.jpg', '8bit_characters/spider-woman_5938746144_o.jpg', '8bit_characters/nik_5979151448_o.jpg', '8bit_characters/voldemort_5957051446_o.jpg', '8bit_characters/jamie-roberts-outlaw_5994422333_o.jpg', '8bit_characters/blade_5922718697_o.jpg', '8bit_characters/hermione-granger_5957051950_o.jpg', '8bit_characters/jitsu_5921532156_o.jpg', '8bit_characters/zodac_5920967395_o.jpg', '8bit_characters/mer-man_5921532414_o.jpg', '8bit_characters/nabooru_6019453910_o.jpg', '8bit_characters/lrrr_5976673148_o.jpg', '8bit_characters/poe-sister-joelle_6019453182_o.jpg', '8bit_characters/flash_5988560983_o.jpg', '8bit_characters/tira_6012111221_o.jpg', '8bit_characters/starscream_5981652207_o.jpg', '8bit_characters/sauron_5955334583_o.jpg', '8bit_characters/megatron_5981652155_o.jpg', '8bit_characters/marcus-kane-roadkill_5994422939_o.jpg', '8bit_characters/kuro_5979151240_o.jpg', '8bit_characters/wedge-antilles_5930961216_o.jpg', '8bit_characters/kingpin_5938497927_o.jpg', '8bit_characters/kenny_5944784430_o.jpg', '8bit_characters/luminaria-unduli_5930405547_o.jpg', '8bit_characters/tongue-lashor_5923283332_o.jpg', '8bit_characters/sirius-black_5957051474_o.jpg', '8bit_characters/professor-xavier_5937516453_o.jpg', '8bit_characters/john-mcclane_5992883424_o.jpg', '8bit_characters/grandpa-smurf_5991400679_o.jpg', '8bit_characters/elzar_5954638435_o.jpg', '8bit_characters/wily-kit_5922277963_o.jpg', '8bit_characters/johnson_5978594061_o.jpg', '8bit_characters/nickel_5979151126_o.jpg', '8bit_characters/wasp_5938746210_o.jpg', '8bit_characters/gargamel_5956237790_o.jpg', '8bit_characters/captain-lou-albano_5983936528_o.jpg', '8bit_characters/jesse-the-body-ventura_5983374693_o.jpg', '8bit_characters/navi_6019454350_o.jpg', '8bit_characters/mr-miyagi_5989255982_o.jpg', '8bit_characters/slimer_5935862376_o.jpg', '8bit_characters/flash.jpg', '8bit_characters/steve-zissou_5935303263_o.jpg', '8bit_characters/ras-al-gul_5935799171_o.jpg', '8bit_characters/skull-kid_6019453718_o.jpg', '8bit_characters/admiral-ackbar_5930405465_o.jpg', '8bit_characters/labarbara-conrad_5976110075_o.jpg', '8bit_characters/bam-bam-bigelowe_5983373227_o.jpg', '8bit_characters/beavis_5980040528_o.jpg', '8bit_characters/mitsurugi_6012657944_o.jpg', '8bit_characters/yokozuna_5983373643_o.jpg', '8bit_characters/honey_5979151780_o.jpg', '8bit_characters/mace-windu_5930962896_o.jpg', '8bit_characters/johnny-lawrence_5988695505_o.jpg', '8bit_characters/anakin-skywalker-ep2_5930406083_o.jpg', '8bit_characters/ndnd_5976673196_o.jpg', '8bit_characters/wickett_5930961596_o.jpg', '8bit_characters/doc-oc_5939052212_o.jpg', '8bit_characters/seong-mi-na_6012111279_o.jpg', '8bit_characters/the-dude_5935815789_o.jpg', '8bit_characters/peter-venkman_5935303003_o.jpg', '8bit_characters/samus-aran-zero-suit_6024447763_o.jpg', '8bit_characters/gold-dust_5983373971_o.jpg', '8bit_characters/yoda-ghost_5930405681_o.jpg', '8bit_characters/amanda-watts-twister_5994981482_o.jpg', '8bit_characters/voldo_6012657696_o.jpg', '8bit_characters/captain-spaulding_5938774813_o.jpg', '8bit_characters/viper-probe-droid_5930959346_o.jpg', '8bit_characters/face_5925081682_o.jpg', '8bit_characters/rubeus-hagrid_5957051542_o.jpg', '8bit_characters/whiplash_5920966695_o.jpg', '8bit_characters/cid-highwind_6016048405_o.jpg', '8bit_characters/warlord_5983935138_o.jpg', '8bit_characters/luke-skywalker_5930405379_o.jpg', '8bit_characters/the-sorceress_5920966891_o.jpg', '8bit_characters/dusty-the-american-dream-rhodes_5983374011_o.jpg', '8bit_characters/skull-kid-majoras-mask_6019453760_o.jpg', '8bit_characters/clamp-champ_5920966997_o.jpg', '8bit_characters/captain-rex_5930959876_o.jpg', '8bit_characters/ken-masters-spectre_5994422399_o.jpg', '8bit_characters/mr-fantastic_5938745978_o.jpg', '8bit_characters/pebbles_5991957842_o.jpg', '8bit_characters/chucky_5939327514_o.jpg', '8bit_characters/zelda_6018903109_o.jpg', '8bit_characters/gandalf-the-white_5955894922_o.jpg', '8bit_characters/david-jr_6019453504_o.jpg', '8bit_characters/edge-master_6012657468_o.jpg', '8bit_characters/jimmy-mouth-of-the-south-hart_5983373507_o.jpg', '8bit_characters/dr-wily_6024448569_o.jpg', '8bit_characters/pyro_5938072184_o.jpg', '8bit_characters/rick-the-model-martel_5983935434_o.jpg', '8bit_characters/million-dollar-man-ted-dibiase_5983936396_o.jpg', '8bit_characters/marty-jannetty_5983936272_o.jpg', '8bit_characters/ax_5983935776_o.jpg', '8bit_characters/death-star-guard_5930403793_o.jpg', '8bit_characters/the-postman_6019453670_o.jpg', '8bit_characters/yun-seong_6012657778_o.jpg', '8bit_characters/amy-wong_5941791078_o.jpg', '8bit_characters/zeus_5983373591_o.jpg', '8bit_characters/kif-kroker-childrens-space-suit_5958993200_o.jpg', '8bit_characters/url_5954638355_o.jpg', '8bit_characters/t-x_5937808267_o.jpg', '8bit_characters/zora-link_6019454228_o.jpg', '8bit_characters/ellen-ripley-underwear_5946922799_o.jpg', '8bit_characters/ice-man_6025002948_o.jpg', '8bit_characters/ash_5947476354_o.jpg', '8bit_characters/robin_5935799479_o.jpg', '8bit_characters/t-800_5937808173_o.jpg', '8bit_characters/death-star-gunner_5930960334_o.jpg', '8bit_characters/hawk_5958445493_o.jpg', '8bit_characters/the-penguin_5936357332_o.jpg', '8bit_characters/moaning-myrtle_5956492205_o.jpg', '8bit_characters/sub-zero_5992883470_o.jpg', '8bit_characters/talim_6012658226_o.jpg', '8bit_characters/sagat_5924894893_o.jpg', '8bit_characters/captain-freedom_5992883506_o.jpg', '8bit_characters/ben-richards_5992883672_o.jpg', '8bit_characters/abe-sapien_5955320928_o.jpg', '8bit_characters/cobra-commander-hood_5959005942_o.jpg', '8bit_characters/battle-droid_5930960232_o.jpg', '8bit_characters/calculon_5955195608_o.jpg', '8bit_characters/trap-jaw_5921532560_o.jpg', '8bit_characters/young-zelda_6018903173_o.jpg', '8bit_characters/dracula_5939327436_o.jpg', '8bit_characters/dr-mindbender_5959006128_o.jpg', '8bit_characters/alien_5946923137_o.jpg', '8bit_characters/brutus-the-barber-beefcake_5983936178_o.jpg', '8bit_characters/harley-quinn_5935799257_o.jpg', '8bit_characters/big-boss-man_5983373669_o.jpg', '8bit_characters/sophitia_6012111421_o.jpg', '8bit_characters/the-jesus_5935815689_o.jpg', '8bit_characters/ram-man_5920967249_o.jpg', '8bit_characters/hefty-smurf_5956239900_o.jpg', '8bit_characters/lalala_5979151346_o.jpg', '8bit_characters/beast_5938072596_o.jpg', '8bit_characters/miss-elizabeth_5983374553_o.jpg', '8bit_characters/magna-guard_5930958398_o.jpg', '8bit_characters/derek-vinyard_5994981216_o.jpg', '8bit_characters/earthquake_5983373301_o.jpg', '8bit_characters/koko-b-ware_5983374151_o.jpg', '8bit_characters/mr-fuji_5983373775_o.jpg', '8bit_characters/mr-grimm-mr-grimm_5994422813_o.jpg', '8bit_characters/ki-adi-mundi_5930405809_o.jpg', '8bit_characters/imperial-guard_5930404097_o.jpg', '8bit_characters/r2d2_5930959576_o.jpg', '8bit_characters/bariss-offee_5930962828_o.jpg', '8bit_characters/sand-trooper_5930959770_o.jpg', '8bit_characters/boromir_5955895096_o.jpg', '8bit_characters/two-face_5936357304_o.jpg', '8bit_characters/quinlan-vos_5930406287_o.jpg', '8bit_characters/beavis-cornolio_5980040576_o.jpg', '8bit_characters/havana_5979151600_o.jpg', '8bit_characters/hordak_5923283718_o.jpg', '8bit_characters/aragorn_5955334129_o.jpg', '8bit_characters/bart-simpson_5935862070_o.jpg', '8bit_characters/clamps_5976110321_o.jpg', '8bit_characters/poe-sister-meg_6019453222_o.jpg', '8bit_characters/obiwan-kenobi-clone-wars_5930962542_o.jpg', '8bit_characters/colossus_5938072382_o.jpg', '8bit_characters/sauruman_5955334647_o.jpg', '8bit_characters/samus-aran-fusion-suit_6025002738_o.jpg', '8bit_characters/obiwan-kenobi-ep4_5930962498_o.jpg', '8bit_characters/kit-fisto_5930962184_o.jpg', '8bit_characters/neville-longbottom_5956492389_o.jpg', '8bit_characters/lt-commander-data_5941351161_o.jpg', '8bit_characters/smurfette_5955678017_o.jpg', '8bit_characters/andy-dufresne_5938364806_o.jpg', '8bit_characters/cut-man_6024448449_o.jpg', '8bit_characters/sabretooth_5937515573_o.jpg', '8bit_characters/teela_5921533258_o.jpg', '8bit_characters/gremlin_5956532525_o.jpg', '8bit_characters/dr-manhattan_5988154574_o.jpg', '8bit_characters/shredder_5979609795_o.jpg', '8bit_characters/kyle_5944784486_o.jpg', '8bit_characters/amy_6012111079_o.jpg', '8bit_characters/batman_5936357476_o.jpg', '8bit_characters/leia-organa-slave_5930961916_o.jpg', '8bit_characters/miso_5978593601_o.jpg', '8bit_characters/tion-medon_5930402249_o.jpg', '8bit_characters/luna-lovegood_5956492343_o.jpg', '8bit_characters/destro_5959006024_o.jpg', '8bit_characters/amber-mendez_5992325453_o.jpg', '8bit_characters/setsuka_6012111047_o.jpg', '8bit_characters/ultimate-warrior_5983374633_o.jpg', '8bit_characters/sam-flynn_5945447666_o.jpg', '8bit_characters/odeko_5979151974_o.jpg', '8bit_characters/aquaman_5989190284_o.jpg', '8bit_characters/commander-william-t-riker_5941351243_o.jpg', '8bit_characters/mumra_5922842752_o.jpg', '8bit_characters/zoidberg_5941791158_o.jpg', '8bit_characters/nature-boy-ric-flair_5983934972_o.jpg', '8bit_characters/akeem_5983373371_o.jpg', '8bit_characters/clu_5945447752_o.jpg', '8bit_characters/poe-sister-amy_6018901487_o.jpg', '8bit_characters/3d-man_5938746122_o.jpg', '8bit_characters/thor.jpg', '8bit_characters/darunia_6019454150_o.jpg', '8bit_characters/paploo_5930961656_o.jpg', '8bit_characters/boba-fett-child_5930959210_o.jpg', '8bit_characters/nightcrawler_5937516037_o.jpg', '8bit_characters/poe-sister-beth_6018901393_o.jpg', '8bit_characters/daniel-larusso_5989256010_o.jpg', '8bit_characters/panthro_5922842120_o.jpg', '8bit_characters/wily-kat_5922277813_o.jpg', '8bit_characters/honky-tonk-man_5983373531_o.jpg', '8bit_characters/zapp-brannigan_5941229855_o.jpg', '8bit_characters/samus-aran-dark-suit_6024447507_o.jpg', '8bit_characters/the-undertaker_5983373467_o.jpg', '8bit_characters/chris-griffin_5945447532_o.jpg', '8bit_characters/bruce-cochrane-thumper_5994422269_o.jpg', '8bit_characters/delores-umbridge_5956491937_o.jpg', '8bit_characters/ricky-the-dragon-steamboat_5983374113_o.jpg', '8bit_characters/robot-devil_5953118045_o.jpg', '8bit_characters/papa-smurf_5956239948_o.jpg', '8bit_characters/wa7_5930959376_o.jpg', '8bit_characters/great-fairy_6018902503_o.jpg', '8bit_characters/c3po-unfinished_5930959672_o.jpg', '8bit_characters/galadriel_5955894992_o.jpg', '8bit_characters/magnum-pi_5941438827_o.jpg', '8bit_characters/cobra-commander-mask_5959005976_o.jpg', '8bit_characters/count-dooku_5930960926_o.jpg', '8bit_characters/gimley_5955895158_o.jpg', '8bit_characters/jango-fett_5930402629_o.jpg', '8bit_characters/captain-rogers-warthog_5994981756_o.jpg', '8bit_characters/vanity-smurf_5955678039_o.jpg', '8bit_characters/ichigo_5979151676_o.jpg', '8bit_characters/the-invisible-man_5938774689_o.jpg', '8bit_characters/buzz-saw_5992883594_o.jpg', '8bit_characters/hal-jordan_5989122488_o.jpg', '8bit_characters/pinhead_5939327598_o.jpg', '8bit_characters/ivy_6012658144_o.jpg', '8bit_characters/chewbacca_5930961698_o.jpg', '8bit_characters/robocop_5935864312_o.jpg', '8bit_characters/young-link_6018902977_o.jpg', '8bit_characters/jungle_5979151402_o.jpg', '8bit_characters/lando-calrissian_5930405043_o.jpg', '8bit_characters/anakin-skywalker-ghost_5930962610_o.jpg', '8bit_characters/anakin-skywalker-ep1_5930406139_o.jpg', '8bit_characters/iron-man_5938192335_o.jpg', '8bit_characters/stewie-griffin_5944891151_o.jpg', '8bit_characters/thing_5938191911_o.jpg', '8bit_characters/dynamo_5992325317_o.jpg', '8bit_characters/samus-aran-gravity-suit_6025002644_o.jpg', '8bit_characters/clawful_5921532540_o.jpg', '8bit_characters/mr-perfect-kurt-henning_5983934952_o.jpg', '8bit_characters/poison-ivy_5935799409_o.jpg', '8bit_characters/meriadoc-brandybuck_5955334483_o.jpg', '8bit_characters/frodo-baggins_5955895390_o.jpg', '8bit_characters/beetlejuice_5935864374_o.jpg', '8bit_characters/link-kokiri-suit_6019454832_o.jpg', '8bit_characters/cubert-farnsworth_5976110169_o.jpg', '8bit_characters/gambit_5938072652_o.jpg', '8bit_characters/tifa-lockhart_6016600646_o.jpg', '8bit_characters/nightmare_6012110275_o.jpg', '8bit_characters/elec-man_6025003224_o.jpg', '8bit_characters/human-torch_5938191877_o.jpg', '8bit_characters/violator-clown_5987591813_o.jpg', '8bit_characters/emperor-palpatine_5930960600_o.jpg', '8bit_characters/zangief_5924895029_o.jpg', '8bit_characters/prince-adam_5920967531_o.jpg', '8bit_characters/iron-lantern_5991957752_o.jpg', '8bit_characters/scout-trooper_5930959746_o.jpg', '8bit_characters/rocksteady_5979609889_o.jpg', '8bit_characters/professor-farnsworth_5941229967_o.jpg', '8bit_characters/dark-link_6018902709_o.jpg', '8bit_characters/betty-rubble_5991958012_o.jpg', '8bit_characters/yoshimitsu_6012110681_o.jpg', '8bit_characters/predator-unmasked_5946923191_o.jpg', '8bit_characters/midna_6018902573_o.jpg', '8bit_characters/knuckle_6019453592_o.jpg', '8bit_characters/randy-macho-man-savage_5983374609_o.jpg', '8bit_characters/maggie-simpson_5935302969_o.jpg', '8bit_characters/the-iron-shiek_5983935250_o.jpg', '8bit_characters/samus-aran-light-suit_6025002602_o.jpg', '8bit_characters/ellis-redding_5938364776_o.jpg', '8bit_characters/roboto_5921532960_o.jpg', '8bit_characters/mekanek_5920967119_o.jpg', '8bit_characters/han-solo-carbonite_5930961744_o.jpg', '8bit_characters/catwoman_5935799287_o.jpg', '8bit_characters/chancellor-palpatine_5930960682_o.jpg', '8bit_characters/faker_5921532444_o.jpg', '8bit_characters/pumyra_5922278087_o.jpg', '8bit_characters/ryu_5925456548_o.jpg', '8bit_characters/animal_5983935800_o.jpg', '8bit_characters/simon-whittlebone-mr-slam_5994981640_o.jpg', '8bit_characters/hannibal-lecter_5937808347_o.jpg', '8bit_characters/deadpool_5937515461_o.jpg', '8bit_characters/ironhide_5981652559_o.jpg', '8bit_characters/toad_5938071978_o.jpg', '8bit_characters/the-riddler_5935799365_o.jpg', '8bit_characters/goron-link_6018902157_o.jpg', '8bit_characters/man-e-faces_5921532996_o.jpg', '8bit_characters/lloyd-christmas_5935303357_o.jpg', '8bit_characters/bobby-the-brain-heenan_5983935588_o.jpg', '8bit_characters/quorra_5945447708_o.jpg', '8bit_characters/moss-man_5921532898_o.jpg', '8bit_characters/ron-weasley_5956492447_o.jpg', '8bit_characters/battle-droid-assassin_5930960148_o.jpg', '8bit_characters/malfunctioning-eddie_5976673106_o.jpg', '8bit_characters/dhalsim_5925456322_o.jpg', '8bit_characters/skyhopper-pilot_5930404615_o.jpg', '8bit_characters/biggs-darklighter_5930404735_o.jpg', '8bit_characters/invisible-girl_5938191943_o.jpg', '8bit_characters/c3po_5930403135_o.jpg', '8bit_characters/chun-li_5925456396_o.jpg', '8bit_characters/daphne_5944784790_o.jpg', '8bit_characters/shikao_5979151518_o.jpg', '8bit_characters/wolfman_5938774493_o.jpg', '8bit_characters/bender_5941229995_o.jpg', '8bit_characters/the-black-knight_5938364992_o.jpg', '8bit_characters/sandman_5939052256_o.jpg', '8bit_characters/joey-mousepad_5976110279_o.jpg', '8bit_characters/rock_6012110533_o.jpg', '8bit_characters/tri-clops_5921532506_o.jpg', '8bit_characters/falcon_5938192077_o.jpg', '8bit_characters/mega-man_6024448655_o.jpg', '8bit_characters/battle-droid-commander_5930403679_o.jpg', '8bit_characters/sandperson_5930402361_o.jpg', '8bit_characters/chestburster_5947476632_o.jpg', '8bit_characters/rowdy-roddy-piper_5983374731_o.jpg', '8bit_characters/andre-the-giant_5983373717_o.jpg', '8bit_characters/agen-kolar_5930962944_o.jpg', '8bit_characters/mantenna_5922719149_o.jpg', '8bit_characters/egon-spangler_5935303051_o.jpg', '8bit_characters/soundwave_5981652259_o.jpg', '8bit_characters/richard-nixon_5953674646_o.jpg', '8bit_characters/robot-santa_5953674624_o.jpg', '8bit_characters/ben-gali_5922842052_o.jpg', '8bit_characters/greedo_5930959254_o.jpg', '8bit_characters/yoda_5930405725_o.jpg', '8bit_characters/r2a6_5930959550_o.jpg', '8bit_characters/geonosian-battle-droid_5930960262_o.jpg', '8bit_characters/sephiroth_6016600826_o.jpg', '8bit_characters/granny-dread-hammerhead_5994981690_o.jpg', '8bit_characters/hacksaw-jim-duggan_5983936150_o.jpg', '8bit_characters/li-long_6012110705_o.jpg', '8bit_characters/beast-man_5921532610_o.jpg', '8bit_characters/kevin-flynn_5945447638_o.jpg', '8bit_characters/storm-trooper_5930959822_o.jpg', '8bit_characters/thomas-bangalter_5945447830_o.jpg', '8bit_characters/darth-maul_5930960960_o.jpg', '8bit_characters/donbot_5976110241_o.jpg', '8bit_characters/winston-zedmore_5935862342_o.jpg', '8bit_characters/horrible-gelatenous-blob_5955195786_o.jpg', '8bit_characters/a-wing-pilot_5930404849_o.jpg', '8bit_characters/cliff-huxtable_5941438869_o.jpg', '8bit_characters/walter-sobchak_5935815767_o.jpg', '8bit_characters/lisa-simpson_5935862128_o.jpg', '8bit_characters/tugboat_5983373351_o.jpg', '8bit_characters/grand-moff-tarkin_5930960456_o.jpg', '8bit_characters/samus-aran-varia-suit_6024447667_o.jpg', '8bit_characters/vincent-valentine_6016048467_o.jpg', '8bit_characters/bilbo-baggins_5955895324_o.jpg', '8bit_characters/remus-lupin_5956492085_o.jpg', '8bit_characters/donatello_5935302681_o.jpg', '8bit_characters/scarecrow_5935799203_o.jpg', '8bit_characters/fire-man_6025003316_o.jpg', '8bit_characters/bebop_5979609843_o.jpg', '8bit_characters/claire-standish_5946922377_o.jpg', '8bit_characters/little-sister-cured_5986136889_o.jpg', '8bit_characters/k3po_5930959718_o.jpg', '8bit_characters/stratos_5920967369_o.jpg', '8bit_characters/crush_5983935696_o.jpg', '8bit_characters/fireball_5992325363_o.jpg', '8bit_characters/jawa_5930402303_o.jpg', '8bit_characters/scare-glow_5921532258_o.jpg', '8bit_characters/incredible-hulk_5938746370_o.jpg', '8bit_characters/velvet_5979151914_o.jpg', '8bit_characters/ken_5924895105_o.jpg', '8bit_characters/ace_5978593433_o.jpg', '8bit_characters/ahsoka-tano_5930963036_o.jpg', '8bit_characters/jake-the-snake-roberts_5983374465_o.jpg', '8bit_characters/mom_5953674752_o.jpg', '8bit_characters/webstor_5921532384_o.jpg', '8bit_characters/big-daddy_5986136763_o.jpg', '8bit_characters/leia-organa_5930961882_o.jpg', '8bit_characters/jack-skellington_5947476284_o.jpg', '8bit_characters/captain-jean-luc-picard_5941912396_o.jpg', '8bit_characters/elliot_5945095731_o.jpg', '8bit_characters/bespin-guard_5930405003_o.jpg', '8bit_characters/little-sister_5986136835_o.jpg', '8bit_characters/aayla-secura_5930406561_o.jpg', '8bit_characters/wolverine_5938072834_o.jpg', '8bit_characters/battle-droid-pilot_5930960100_o.jpg', '8bit_characters/jason-voorhees_5937808429_o.jpg', '8bit_characters/lynx-o_5922842614_o.jpg', '8bit_characters/draco-malfoy_5957051834_o.jpg', '8bit_characters/boba-fett_5930959162_o.jpg', '8bit_characters/m-bison_5925456180_o.jpg', '8bit_characters/maxi_6012110839_o.jpg', '8bit_characters/sy-clone_5921532874_o.jpg', '8bit_characters/gung-ho_5959005746_o.jpg', '8bit_characters/mon-mothma_5930405505_o.jpg', '8bit_characters/doctor-doom_5950960203_o.jpg', '8bit_characters/clone-trooper-pilot_5930403439_o.jpg', '8bit_characters/rattlor_5922718753_o.jpg', '8bit_characters/skeletor_5921532664_o.jpg', '8bit_characters/albus-dumbledore_5957051636_o.jpg', '8bit_characters/astaroth_6012657670_o.jpg', '8bit_characters/luke-skywalker-training_5930961416_o.jpg', '8bit_characters/bomb-man_6025003058_o.jpg', '8bit_characters/ganondorf_6019453840_o.jpg', '8bit_characters/super-battle-droid_5930960050_o.jpg', '8bit_characters/travis-bickle_5947475890_o.jpg', '8bit_characters/kilik_6012110783_o.jpg', '8bit_characters/captain-america_5938746294_o.jpg', '8bit_characters/padme-arena_5930402105_o.jpg', '8bit_characters/the-comedian_5987591883_o.jpg', '8bit_characters/paul-bearer_5983935336_o.jpg', '8bit_characters/thor_5938192259_o.jpg', '8bit_characters/raphael_6012657978_o.jpg', '8bit_characters/xianghua_6012111329_o.jpg', '8bit_characters/archangel_5937515961_o.jpg', '8bit_characters/harry-dunne_5935864202_o.jpg', '8bit_characters/marcy_5979151856_o.jpg', '8bit_characters/general-grievous_5930960840_o.jpg', '8bit_characters/wonder-woman_5988154832_o.jpg', '8bit_characters/venom_5939052302_o.jpg', '8bit_characters/t-1000_5938364906_o.jpg', '8bit_characters/grizzlor_5923283608_o.jpg', '8bit_characters/blanka_5925456516_o.jpg', '8bit_characters/frankenstiens-monster_5939327386_o.jpg', '8bit_characters/william-wallace_5935303201_o.jpg', '8bit_characters/oola_5930958322_o.jpg', '8bit_characters/ozymandias_5988154698_o.jpg', '8bit_characters/lex-luthor_5939051968_o.jpg', '8bit_characters/axel-axel_5994981930_o.jpg', '8bit_characters/nibbler_5941790968_o.jpg', '8bit_characters/deku-scrub_6018902097_o.jpg', '8bit_characters/gollum_5956699772_o.jpg', '8bit_characters/ig-88_5930958956_o.jpg', '8bit_characters/gandalf-the-grey_5955894876_o.jpg', '8bit_characters/frank-n-furter_5935303313_o.jpg', '8bit_characters/ankle_6019453550_o.jpg', '8bit_characters/captain-panaka_5930958496_o.jpg', '8bit_characters/linda_5953674700_o.jpg', '8bit_characters/commander-cody_5930959946_o.jpg', '8bit_characters/peter-griffin_5944891301_o.jpg', '8bit_characters/barbarian_5983935114_o.jpg', '8bit_characters/ten-numb_5930404925_o.jpg', '8bit_characters/dr-jekyl--mr-hyde_5938774615_o.jpg', '8bit_characters/barret-wallace_6016048265_o.jpg', '8bit_characters/luke-skywalker-jedi_5930962414_o.jpg', '8bit_characters/jean-grey_5938072956_o.jpg', '8bit_characters/tron_5945447796_o.jpg', '8bit_characters/firefly_5959006180_o.jpg', '8bit_characters/facehugger_5946923065_o.jpg', '8bit_characters/baroness_5958446169_o.jpg', '8bit_characters/brain-slug_5954638231_o.jpg', '8bit_characters/olcadan_6012110433_o.jpg', '8bit_characters/battle-security-droid_5930403625_o.jpg', '8bit_characters/marny_5978593341_o.jpg', '8bit_characters/meg-griffin_5944891175_o.jpg', '8bit_characters/shaggy_5944784748_o.jpg', '8bit_characters/the-prince_5979152226_o.jpg', '8bit_characters/plo-koon_5930405769_o.jpg', '8bit_characters/lunae-minx_5930401841_o.jpg', '8bit_characters/magneto_5938072320_o.jpg', '8bit_characters/red-leader_5930961318_o.jpg', '8bit_characters/hawk_5983373929_o.jpg', '8bit_characters/raphael_5935302731_o.jpg', '8bit_characters/tingle_6019453632_o.jpg', '8bit_characters/darth-vader_5930404303_o.jpg', '8bit_characters/opeo_5979151072_o.jpg', '8bit_characters/james-p-sullivan_5944231445_o.jpg', '8bit_characters/columbo_5978592987_o.jpg', '8bit_characters/johnny-lawrence-halloween_5989256116_o.jpg', '8bit_characters/guile_5924895151_o.jpg', '8bit_characters/kif-kroker_5941790998_o.jpg', '8bit_characters/qui-gon-jin_5930406189_o.jpg', '8bit_characters/jake-sulley_5925081732_o.jpg', '8bit_characters/et_5945095767_o.jpg', '8bit_characters/storm_5937516211_o.jpg', '8bit_characters/ginny-weasley_5957051892_o.jpg', '8bit_characters/cartman_5944231353_o.jpg', '8bit_characters/snout-spout_5920967299_o.jpg', '8bit_characters/foomin_5979152154_o.jpg', '8bit_characters/link-goron-suit_6019454686_o.jpg', '8bit_characters/jaga_5922277539_o.jpg', '8bit_characters/sally_5946922621_o.jpg', '8bit_characters/the-king-of-all-cosmos_5979152258_o.jpg', '8bit_characters/shipwreck_5959005702_o.jpg', '8bit_characters/e-honda_5924895179_o.jpg', '8bit_characters/mr-freeze_5935799127_o.jpg', '8bit_characters/tomb_raider.jpg', '8bit_characters/counselor-deanna_5941351211_o.jpg', '8bit_characters/the-mountie_5983373175_o.jpg', '8bit_characters/bossk_5956264326_o.jpg', '8bit_characters/killer-croc_5936357384_o.jpg', '8bit_characters/sinestro_5988560955_o.jpg', '8bit_characters/brainy-smurf_5956239876_o.jpg', '8bit_characters/virgil_5983936350_o.jpg', '8bit_characters/lois-griffin_5944891257_o.jpg', '8bit_characters/nein-numb_5930405427_o.jpg', '8bit_characters/clone-jet-trooper_5930403365_o.jpg', '8bit_characters/smash_5983935744_o.jpg', '8bit_characters/fujio_5979152024_o.jpg', '8bit_characters/candyman_5939327698_o.jpg', '8bit_characters/dak-ralter_5930961284_o.jpg', '8bit_characters/stan_5944784524_o.jpg', '8bit_characters/mystique_5937515717_o.jpg', '8bit_characters/anakin-skywalker-ep3_5930406053_o.jpg', '8bit_characters/tatanka_5983374079_o.jpg', '8bit_characters/carnage_5938498059_o.jpg', '8bit_characters/stinkor_5920966463_o.jpg', '8bit_characters/king-kong-bundy_5983935656_o.jpg', '8bit_characters/the-british-bulldog-davey-boy-smith_5983936114_o.jpg', '8bit_characters/barney-rubble_5991958122_o.jpg', '8bit_characters/velma_5944784672_o.jpg', '8bit_characters/silver-surfer_5950960263_o.jpg', '8bit_characters/mac-gyver_5941438771_o.jpg', '8bit_characters/orko_5920967335_o.jpg', '8bit_characters/queen-amidala-1_5930958618_o.jpg', '8bit_characters/man-at-arms_5920967419_o.jpg', '8bit_characters/lara-croft_5994982184_o.jpg', '8bit_characters/leia-organa-hologram_5930405265_o.jpg', '8bit_characters/morbo-the-annihillator_5953674720_o.jpg', '8bit_characters/typhoon_5983373327_o.jpg', '8bit_characters/tygra_5922277751_o.jpg', '8bit_characters/needles-kane-sweet-tooth_5994422997_o.jpg', '8bit_characters/jim-the-anvil-neidhart_5983374333_o.jpg', '8bit_characters/dr-beverley-crusher_5941912182_o.jpg', '8bit_characters/he-man_5921533268_o.jpg', '8bit_characters/bane_5936357236_o.jpg', '8bit_characters/brett-the-hitman-hart_5983936242_o.jpg', '8bit_characters/mike-wachowski_5944784602_o.jpg', '8bit_characters/admiral-piett_5930960414_o.jpg', '8bit_characters/r2c4_5930959510_o.jpg', '8bit_characters/cho-chang_5956492301_o.jpg', '8bit_characters/cloud-strife_6016048207_o.jpg', '8bit_characters/ray-stantz_5935862304_o.jpg', '8bit_characters/john-kreese_5988695491_o.jpg', '8bit_characters/inferno_6012110307_o.jpg', '8bit_characters/kratos_5954762169_o.jpg', '8bit_characters/hermes-conrad-decapitated_5954638613_o.jpg', '8bit_characters/clark-kent_5938497815_o.jpg', '8bit_characters/minerva-mcgonnagall_5956492139_o.jpg', '8bit_characters/balrog_5925456276_o.jpg', '8bit_characters/yuffie-kisaragi_6016048431_o.jpg', '8bit_characters/spiderman_5938746164_o.jpg', '8bit_characters/yaddle_5930962226_o.jpg', '8bit_characters/perigrin-took_5955334539_o.jpg', '8bit_characters/dengar_5930958910_o.jpg', '8bit_characters/the-mummy_5938774517_o.jpg', '8bit_characters/murdock_5924519711_o.jpg', '8bit_characters/dr-light_6024448809_o.jpg', '8bit_characters/zartan_5958446207_o.jpg', '8bit_characters/roadblock_5959005784_o.jpg', '8bit_characters/homer-simpson_5935861972_o.jpg', '8bit_characters/buzz-off_5920967033_o.jpg', '8bit_characters/cassandra_6012111391_o.jpg']\n"
     ]
    }
   ],
   "source": [
    "root_data_folder = \"8bit_characters\"\n",
    "image_names = [root_data_folder + \"/\" + name for name in os.listdir(root_data_folder) if name.endswith(\".jpg\")]\n",
    "print(image_names)"
   ]
  },
  {
   "cell_type": "code",
   "execution_count": 6,
   "metadata": {},
   "outputs": [],
   "source": [
    "def get_df_rgb(img):\n",
    "    image = img\n",
    "    if isinstance(img, str):\n",
    "        image = Image.open(img)\n",
    "    \n",
    "    n_dims = np.array(image).shape[-1]\n",
    "    r, g, b = np.array(image).reshape(-1, n_dims).T\n",
    "    # return pd.DataFrame({'r': r, 'g': g, 'b': b}).sample(n=sample_size)\n",
    "    return pd.DataFrame({'r': r, 'g': g, 'b': b})"
   ]
  },
  {
   "cell_type": "markdown",
   "metadata": {},
   "source": [
    "Custom data loader image: https://www.topbots.com/step-by-step-implementation-of-gans-part-2/"
   ]
  },
  {
   "cell_type": "code",
   "execution_count": 7,
   "metadata": {},
   "outputs": [],
   "source": [
    "X_train = []\n",
    "count = 0\n",
    "for dir in image_names:\n",
    "    try: \n",
    "        # pixel_size = 50\n",
    "        img = Image.open(dir)\n",
    "        img = img.convert(\"RGB\")\n",
    "        img = img.resize((32,32))\n",
    "        img = np.asarray(img)/255\n",
    "        X_train.append(img)\n",
    "        count += 1\n",
    "    except Exception as e:\n",
    "        print(count)\n",
    "        print(e)"
   ]
  },
  {
   "cell_type": "code",
   "execution_count": 8,
   "metadata": {},
   "outputs": [],
   "source": [
    "X_train = np.asarray(X_train)"
   ]
  },
  {
   "cell_type": "code",
   "execution_count": 9,
   "metadata": {},
   "outputs": [
    {
     "data": {
      "text/plain": [
       "(701, 32, 32, 3)"
      ]
     },
     "execution_count": 9,
     "metadata": {},
     "output_type": "execute_result"
    }
   ],
   "source": [
    "X_train.shape"
   ]
  },
  {
   "cell_type": "code",
   "execution_count": 10,
   "metadata": {},
   "outputs": [],
   "source": [
    "def plot_images(imgs, grid_size = 5):\n",
    "    \"\"\"\n",
    "    imgs: vector containing all the numpy images\n",
    "    grid_size: 2x2 or 5x5 grid containing images\n",
    "    \"\"\"\n",
    "     \n",
    "    fig = plt.figure(figsize = (8, 8))\n",
    "    columns = rows = grid_size\n",
    "    plt.title(\"Training Images\")\n",
    "\n",
    "    for i in range(1, columns*rows +1):\n",
    "        plt.axis(\"off\")\n",
    "        fig.add_subplot(rows, columns, i)\n",
    "        if i >= len(imgs):\n",
    "            break\n",
    "        plt.imshow(imgs[i])\n",
    "    plt.show()"
   ]
  },
  {
   "cell_type": "code",
   "execution_count": 11,
   "metadata": {},
   "outputs": [],
   "source": [
    "from numpy import savez_compressed\n",
    "\n",
    "savez_compressed('8bit_characters_32x32.npz', X_train)"
   ]
  },
  {
   "cell_type": "code",
   "execution_count": 12,
   "metadata": {},
   "outputs": [
    {
     "data": {
      "image/png": "[encoded data removed]",
      "text/plain": [
       "<Figure size 800x800 with 10 Axes>"
      ]
     },
     "metadata": {},
     "output_type": "display_data"
    }
   ],
   "source": [
    "imgs = np.load('8bit_characters_32x32.npz')\n",
    " \n",
    "# pls ignore the poor quality of the images as we are working with 32x32 sized images.\n",
    "plot_images(imgs['arr_0'], 3)"
   ]
  },
  {
   "cell_type": "code",
   "execution_count": 13,
   "metadata": {},
   "outputs": [],
   "source": [
    "from torch.utils.data import Dataset, DataLoader\n",
    "\n",
    "class PixelCharacterDataset(Dataset):\n",
    "    \"\"\"Human Faces dataset.\"\"\"\n",
    " \n",
    "    def __init__(self, npz_imgs):\n",
    "        \"\"\"\n",
    "        Args:\n",
    "            npz_imgs (string): npz file with all the images (created in gan.ipynb)\n",
    "        \"\"\"\n",
    "        self.imgs = npz_imgs\n",
    " \n",
    "    def __len__(self):\n",
    "        return len(self.imgs)\n",
    " \n",
    "    def __getitem__(self, idx):\n",
    "        if torch.is_tensor(idx):\n",
    "            idx = idx.tolist()\n",
    " \n",
    "        image = self.imgs[idx]\n",
    " \n",
    "        return image"
   ]
  },
  {
   "cell_type": "code",
   "execution_count": 14,
   "metadata": {},
   "outputs": [],
   "source": [
    "transpose_imgs = np.transpose(\n",
    "    np.float32(imgs['arr_0']), (0, 3, 1, 2)\n",
    ")\n",
    "dset = PixelCharacterDataset(transpose_imgs)\n",
    "\n",
    "dataloader = DataLoader(dset, batch_size=32, shuffle=True)"
   ]
  },
  {
   "cell_type": "code",
   "execution_count": 15,
   "metadata": {},
   "outputs": [],
   "source": [
    "class Generator(nn.Module):\n",
    "    def __init__(self):\n",
    "        super().__init__()\n",
    "        # input to generator is something like (batch_size, 100, 1, 1)\n",
    "        # this means that we are passing a batch of 32 100 random numbers to the generator\n",
    "        self.model = nn.Sequential(\n",
    "          nn.ConvTranspose2d(in_channels = 100, out_channels = 512 , kernel_size = 4, stride = 1, padding = 0, bias = False),\n",
    "          # the output from the above will be b_size ,512, 4,4\n",
    "          nn.BatchNorm2d(num_features = 512), # From an input of size (b_size, C, H, W), pick num_features = C\n",
    "          nn.ReLU(inplace = True),\n",
    " \n",
    "          nn.ConvTranspose2d(in_channels = 512, out_channels = 256 , kernel_size = 4, stride = 2, padding = 1, bias = False),\n",
    "          # the output from the above will be b_size ,256, 8,8\n",
    "          nn.BatchNorm2d(num_features = 256),\n",
    "          nn.ReLU(inplace = True),\n",
    " \n",
    "          nn.ConvTranspose2d(in_channels = 256, out_channels = 128 , kernel_size = 4, stride = 2, padding = 1, bias = False),\n",
    "          # the output from the above will be b_size ,128, 16,16\n",
    "          nn.BatchNorm2d(num_features = 128),\n",
    "          nn.ReLU(inplace = True),\n",
    " \n",
    "          nn.ConvTranspose2d(in_channels = 128, out_channels = 3 , kernel_size = 4, stride = 2, padding = 1, bias = False),\n",
    "          # the output from the above will be b_size ,3, 32,32\n",
    "          nn.Tanh()\n",
    "         \n",
    "        )\n",
    " \n",
    "    def forward(self, x):\n",
    "        return self.model(x)\n"
   ]
  },
  {
   "cell_type": "code",
   "execution_count": 16,
   "metadata": {},
   "outputs": [],
   "source": [
    "class Discriminator(nn.Module):\n",
    "    def __init__(self, *args, **kwargs) -> None:\n",
    "        super().__init__(*args, **kwargs)\n",
    "        self.model = nn.Sequential(\n",
    " \n",
    "            # input is (3, 32, 32)\n",
    "            nn.Conv2d(in_channels = 3, out_channels = 32, kernel_size = 4, stride = 2, padding = 1, bias=False),\n",
    "            # ouput from above layer is b_size, 32, 16, 16\n",
    "            nn.LeakyReLU(0.2, inplace=True),\n",
    " \n",
    "            nn.Conv2d(in_channels = 32, out_channels = 64, kernel_size = 4, stride = 2, padding = 1, bias=False),\n",
    "            # ouput from above layer is b_size, 32*2, 8, 8\n",
    "            nn.BatchNorm2d(32 * 2),\n",
    "            nn.LeakyReLU(0.2, inplace=True),\n",
    " \n",
    "            nn.Conv2d(in_channels = 64, out_channels = 128, kernel_size = 4, stride = 2, padding = 1, bias=False),\n",
    "            # ouput from above layer is b_size, 32*4, 4, 4\n",
    "            nn.BatchNorm2d(32 * 4),\n",
    "            nn.LeakyReLU(0.2, inplace=True),\n",
    " \n",
    "            nn.Conv2d(in_channels = 128, out_channels = 256, kernel_size = 4, stride = 2, padding = 1, bias=False),\n",
    "            # ouput from above layer is b_size, 256, 2, 2\n",
    "            # NOTE: spatial size of this layer is 2x2, hence in the final layer, the kernel size must be 2 instead (or smaller than) 4\n",
    "            nn.BatchNorm2d(32 * 8),\n",
    "            nn.LeakyReLU(0.2, inplace=True),\n",
    " \n",
    "            nn.Conv2d(in_channels = 256, out_channels = 1, kernel_size = 2, stride = 2, padding = 0, bias=False),\n",
    "            # ouput from above layer is b_size, 1, 1, 1\n",
    "            nn.Sigmoid()\n",
    "        )\n",
    "    def forward(self, x):\n",
    "        return self.model(x)\n",
    "    \n",
    "\n",
    "\n"
   ]
  },
  {
   "cell_type": "code",
   "execution_count": 17,
   "metadata": {},
   "outputs": [
    {
     "name": "stdout",
     "output_type": "stream",
     "text": [
      "cuda:0\n"
     ]
    }
   ],
   "source": [
    "print(device)"
   ]
  },
  {
   "cell_type": "code",
   "execution_count": 18,
   "metadata": {},
   "outputs": [
    {
     "ename": "",
     "evalue": "",
     "output_type": "error",
     "traceback": [
      "\u001b[1;31mCannot execute code, session has been disposed. Please try restarting the Kernel."
     ]
    },
    {
     "ename": "",
     "evalue": "",
     "output_type": "error",
     "traceback": [
      "\u001b[1;31mThe Kernel crashed while executing code in the the current cell or a previous cell. Please review the code in the cell(s) to identify a possible cause of the failure. Click <a href='https://aka.ms/vscodeJupyterKernelCrash'>here</a> for more info. View Jupyter <a href='command:jupyter.viewOutput'>log</a> for further details."
     ]
    }
   ],
   "source": [
    "ex_dis = Generator().to(device=device)\n",
    "\n",
    "randn = torch.randn((32, 100, 1, 1), device=device)\n",
    "# ex_dis(randn)\n",
    "ex_dis(randn)\n"
   ]
  },
  {
   "cell_type": "code",
   "execution_count": null,
   "metadata": {},
   "outputs": [],
   "source": []
  },
  {
   "cell_type": "code",
   "execution_count": 28,
   "metadata": {},
   "outputs": [],
   "source": [
    "def init_weights(m):\n",
    "    if type(m) == nn.ConvTranspose2d:\n",
    "        nn.init.normal_(m.weight, 0.0, 0.02)\n",
    "    elif type(m) == nn.BatchNorm2d:\n",
    "        nn.init.normal_(m.weight, 1.0, 0.02)\n",
    "        nn.init.constant_(m.bias, 0)\n"
   ]
  },
  {
   "cell_type": "code",
   "execution_count": 29,
   "metadata": {},
   "outputs": [
    {
     "data": {
      "text/plain": [
       "Discriminator(\n",
       "  (model): Sequential(\n",
       "    (0): Conv2d(3, 32, kernel_size=(4, 4), stride=(2, 2), padding=(1, 1), bias=False)\n",
       "    (1): LeakyReLU(negative_slope=0.2, inplace=True)\n",
       "    (2): Conv2d(32, 64, kernel_size=(4, 4), stride=(2, 2), padding=(1, 1), bias=False)\n",
       "    (3): BatchNorm2d(64, eps=1e-05, momentum=0.1, affine=True, track_running_stats=True)\n",
       "    (4): LeakyReLU(negative_slope=0.2, inplace=True)\n",
       "    (5): Conv2d(64, 128, kernel_size=(4, 4), stride=(2, 2), padding=(1, 1), bias=False)\n",
       "    (6): BatchNorm2d(128, eps=1e-05, momentum=0.1, affine=True, track_running_stats=True)\n",
       "    (7): LeakyReLU(negative_slope=0.2, inplace=True)\n",
       "    (8): Conv2d(128, 256, kernel_size=(4, 4), stride=(2, 2), padding=(1, 1), bias=False)\n",
       "    (9): BatchNorm2d(256, eps=1e-05, momentum=0.1, affine=True, track_running_stats=True)\n",
       "    (10): LeakyReLU(negative_slope=0.2, inplace=True)\n",
       "    (11): Conv2d(256, 1, kernel_size=(2, 2), stride=(2, 2), bias=False)\n",
       "    (12): Sigmoid()\n",
       "  )\n",
       ")"
      ]
     },
     "execution_count": 29,
     "metadata": {},
     "output_type": "execute_result"
    }
   ],
   "source": [
    "generator = Generator().to(device)\n",
    "discriminator = Discriminator().to(device)\n",
    "generator.apply(init_weights)\n",
    "discriminator.apply(init_weights)"
   ]
  },
  {
   "cell_type": "code",
   "execution_count": 30,
   "metadata": {},
   "outputs": [],
   "source": [
    "lr = 0.001 # learning rate\n",
    "num_epochs = 100 # number of epochs\n",
    "def backward_hook(grad):\n",
    "    print(grad)\n",
    "loss_function = nn.BCELoss() # Binary Cross Entropy Loss (since we are doing binary classification - whether the data is real or fake)\n"
   ]
  },
  {
   "cell_type": "code",
   "execution_count": 31,
   "metadata": {},
   "outputs": [],
   "source": [
    "# We will use Adam optimizer\n",
    "optimizer_discriminator = torch.optim.Adam(discriminator.parameters(), lr=lr, betas=(0.5, 0.999))\n",
    "optimizer_generator = torch.optim.Adam(generator.parameters(), lr=lr, betas=(0.5, 0.999))"
   ]
  },
  {
   "cell_type": "code",
   "execution_count": 33,
   "metadata": {},
   "outputs": [
    {
     "ename": "",
     "evalue": "",
     "output_type": "error",
     "traceback": [
      "\u001b[1;31mCannot execute code, session has been disposed. Please try restarting the Kernel."
     ]
    },
    {
     "ename": "",
     "evalue": "",
     "output_type": "error",
     "traceback": [
      "\u001b[1;31mThe Kernel crashed while executing code in the the current cell or a previous cell. Please review the code in the cell(s) to identify a possible cause of the failure. Click <a href='https://aka.ms/vscodeJupyterKernelCrash'>here</a> for more info. View Jupyter <a href='command:jupyter.viewOutput'>log</a> for further details."
     ]
    }
   ],
   "source": [
    "output = generator(torch.randn((32, 100, 1, 1)).to(device))\n",
    "print(output.type())\n",
    "\n",
    "img_plot = np.transpose(output.detach().cpu(), (0,2,3,1)) # .detach().cpu() is imp for copying fake_img tensor to host memory first\n",
    "img_plot = (img_plot + 1)/2\n",
    "plot_images(np.array(img_plot).astype(np.float32))\n",
    "\n"
   ]
  },
  {
   "cell_type": "code",
   "execution_count": null,
   "metadata": {},
   "outputs": [],
   "source": [
    "# going over the entire dataset 10 times\n",
    "num_epochs = 1000\n",
    "for e in range(num_epochs):\n",
    "     \n",
    "    # pick each batch b of input images: shape of each batch is (32, 3, 32, 32)\n",
    "    for i, b in enumerate(dataloader):\n",
    " \n",
    "        ##########################\n",
    "        ## Update Discriminator ##\n",
    "        ##########################\n",
    " \n",
    "        # Loss on real images\n",
    "         \n",
    "        # clear the gradient\n",
    "        optimizer_discriminator.zero_grad() # set the gradients to 0 at start of each loop because gradients are accumulated on subsequent backward passes\n",
    "        # compute the D model output\n",
    "        yhat = discriminator(b.to(device)).view(-1) # view(-1) reshapes a 4-d tensor of shape (2,1,1,1) to 1-d tensor with 2 values only\n",
    "        # specify target labels or true labels\n",
    "        target = torch.ones(len(b), dtype=torch.float, device=device)\n",
    "        # calculate loss\n",
    "        loss_real = loss_function(yhat, target)\n",
    "        # calculate gradients -  or rather accumulation of gradients on loss tensor\n",
    "        loss_real.backward()\n",
    " \n",
    "        # Loss on fake images\n",
    " \n",
    "        # generate batch of fake images using G\n",
    "        # Step1: creating noise to be fed as input to G\n",
    "        noise = torch.randn(len(b), 100, 1, 1, device = device)\n",
    "        # Step 2: feed noise to G to create a fake img (this will be reused when updating G)\n",
    "        fake_img = generator(noise) \n",
    " \n",
    "        # compute D model output on fake images\n",
    "        yhat = discriminator.cuda()(fake_img.detach()).view(-1) # .cuda() is essential because our input i.e. fake_img is on gpu but model isnt (runtimeError thrown); detach is imp: Basically, only track steps on your generator optimizer when training the generator, NOT the discriminator. \n",
    "        # specify target labels\n",
    "        target = torch.zeros(len(b), dtype=torch.float, device=device)\n",
    "        # calculate loss\n",
    "        loss_fake = loss_function(yhat, target)\n",
    "        # calculate gradients\n",
    "        loss_fake.backward()\n",
    " \n",
    "        # total error on D\n",
    "        loss_disc = loss_real + loss_fake\n",
    " \n",
    "        # Update weights of D\n",
    "        optimizer_discriminator.step()\n",
    " \n",
    "        ##########################\n",
    "        #### Update Generator ####\n",
    "        ##########################\n",
    " \n",
    "        # clear gradient\n",
    "        optimizer_generator.zero_grad()\n",
    "        # pass fake image through D\n",
    "        yhat = discriminator.cuda()(fake_img).view(-1)\n",
    "        # specify target variables - remember G wants D *to think* these are real images so label is 1\n",
    "        target = torch.ones(len(b), dtype=torch.float, device=device)\n",
    "        # calculate loss\n",
    "        loss_gen = loss_function(yhat, target)\n",
    "        # calculate gradients\n",
    "        loss_gen.backward()\n",
    "        # update weights on G\n",
    "        optimizer_generator.step()\n",
    " \n",
    " \n",
    "        ####################################\n",
    "        #### Plot some Generator images ####\n",
    "        ####################################\n",
    " \n",
    "        # during every epoch, print images at every 10th iteration.\n",
    "        if i% 10 == 0:\n",
    "            # convert the fake images from (b_size, 3, 32, 32) to (b_size, 32, 32, 3) for plotting \n",
    "            img_plot = np.transpose(fake_img.detach().cpu(), (0,2,3,1)) # .detach().cpu() is imp for copying fake_img tensor to host memory first\n",
    "            img_plot = (img_plot + 1)/2\n",
    "            plot_images(img_plot)\n",
    "            print(\"********************\")\n",
    "            print(\" Epoch %d and iteration %d \" % (e, i))"
   ]
  },
  {
   "cell_type": "code",
   "execution_count": null,
   "metadata": {},
   "outputs": [],
   "source": []
  }
 ],
 "metadata": {
  "kernelspec": {
   "display_name": ".venv",
   "language": "python",
   "name": "python3"
  },
  "language_info": {
   "codemirror_mode": {
    "name": "ipython",
    "version": 3
   },
   "file_extension": ".py",
   "mimetype": "text/x-python",
   "name": "python",
   "nbconvert_exporter": "python",
   "pygments_lexer": "ipython3",
   "version": "3.8.12"
  },
  "orig_nbformat": 4
 },
 "nbformat": 4,
 "nbformat_minor": 2
}
