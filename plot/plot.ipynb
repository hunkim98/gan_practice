{
 "cells": [
  {
   "cell_type": "code",
   "execution_count": 1,
   "metadata": {},
   "outputs": [],
   "source": [
    "import torch\n",
    "from torch import nn\n",
    "\n",
    "import math\n",
    "import matplotlib.pyplot as plt\n"
   ]
  },
  {
   "cell_type": "code",
   "execution_count": 2,
   "metadata": {},
   "outputs": [
    {
     "data": {
      "text/plain": [
       "<torch._C.Generator at 0x7f6b477c58b0>"
      ]
     },
     "execution_count": 2,
     "metadata": {},
     "output_type": "execute_result"
    }
   ],
   "source": [
    "RANDOM_SEED = 111\n",
    "torch.manual_seed(RANDOM_SEED)"
   ]
  },
  {
   "cell_type": "code",
   "execution_count": 3,
   "metadata": {},
   "outputs": [
    {
     "name": "stdout",
     "output_type": "stream",
     "text": [
      "CUDA Available\n"
     ]
    }
   ],
   "source": [
    "# Check for CUDA availability\n",
    "if torch.cuda.is_available():\n",
    "    print(\"CUDA Available\")\n",
    "    device = torch.device(\"cuda\")  # Use the GPU\n",
    "else:\n",
    "    print(\"CUDA Not Available\")\n",
    "    device = torch.device(\"cpu\")   # Use the CPU\n"
   ]
  },
  {
   "cell_type": "markdown",
   "metadata": {},
   "source": [
    "Preparing training data"
   ]
  },
  {
   "cell_type": "code",
   "execution_count": 57,
   "metadata": {},
   "outputs": [],
   "source": [
    "train_data_length = 1024\n",
    "# We will use a sin graph as our real data\n",
    "train_data = torch.zeros((train_data_length, 2)).to(device=device)\n",
    "# train_data[:, 0] means all rows, 0th column (In here our first column will be x data)\n",
    "# Random value from 0 to 2pi for x data\n",
    "train_data[:, 0] = 2 * math.pi * torch.rand(train_data_length).to(device=device) # x data\n",
    "# train_data[:, 1] means all rows, 1st column (In here our second column will be y data)\n",
    "# torch.sin is the answer to our model\n",
    "# y is the actual label\n",
    "train_data[:, 1] = torch.sin(train_data[:, 0]).to(device=device) # y data\n",
    "\n",
    "# the labels are required by pytorch data loader. But since GAN make use of unsuperivsed learning, we don't need labels\n",
    "train_labels = torch.zeros(train_data_length)\n",
    "train_set = [\n",
    "    (train_data[i], train_labels[i]) for i in range(train_data_length)\n",
    "]\n"
   ]
  },
  {
   "cell_type": "code",
   "execution_count": 58,
   "metadata": {},
   "outputs": [
    {
     "ename": "TypeError",
     "evalue": "can't convert cuda:0 device type tensor to numpy. Use Tensor.cpu() to copy the tensor to host memory first.",
     "output_type": "error",
     "traceback": [
      "\u001b[0;31m---------------------------------------------------------------------------\u001b[0m",
      "\u001b[0;31mTypeError\u001b[0m                                 Traceback (most recent call last)",
      "Cell \u001b[0;32mIn[58], line 1\u001b[0m\n\u001b[0;32m----> 1\u001b[0m plt\u001b[39m.\u001b[39;49mplot(train_data[:, \u001b[39m0\u001b[39;49m], train_data[:, \u001b[39m1\u001b[39;49m], \u001b[39m\"\u001b[39;49m\u001b[39m.\u001b[39;49m\u001b[39m\"\u001b[39;49m)\n",
      "File \u001b[0;32m~/gan_practice/.venv/lib/python3.8/site-packages/matplotlib/pyplot.py:2812\u001b[0m, in \u001b[0;36mplot\u001b[0;34m(scalex, scaley, data, *args, **kwargs)\u001b[0m\n\u001b[1;32m   2810\u001b[0m \u001b[39m@_copy_docstring_and_deprecators\u001b[39m(Axes\u001b[39m.\u001b[39mplot)\n\u001b[1;32m   2811\u001b[0m \u001b[39mdef\u001b[39;00m \u001b[39mplot\u001b[39m(\u001b[39m*\u001b[39margs, scalex\u001b[39m=\u001b[39m\u001b[39mTrue\u001b[39;00m, scaley\u001b[39m=\u001b[39m\u001b[39mTrue\u001b[39;00m, data\u001b[39m=\u001b[39m\u001b[39mNone\u001b[39;00m, \u001b[39m*\u001b[39m\u001b[39m*\u001b[39mkwargs):\n\u001b[0;32m-> 2812\u001b[0m     \u001b[39mreturn\u001b[39;00m gca()\u001b[39m.\u001b[39;49mplot(\n\u001b[1;32m   2813\u001b[0m         \u001b[39m*\u001b[39;49margs, scalex\u001b[39m=\u001b[39;49mscalex, scaley\u001b[39m=\u001b[39;49mscaley,\n\u001b[1;32m   2814\u001b[0m         \u001b[39m*\u001b[39;49m\u001b[39m*\u001b[39;49m({\u001b[39m\"\u001b[39;49m\u001b[39mdata\u001b[39;49m\u001b[39m\"\u001b[39;49m: data} \u001b[39mif\u001b[39;49;00m data \u001b[39mis\u001b[39;49;00m \u001b[39mnot\u001b[39;49;00m \u001b[39mNone\u001b[39;49;00m \u001b[39melse\u001b[39;49;00m {}), \u001b[39m*\u001b[39;49m\u001b[39m*\u001b[39;49mkwargs)\n",
      "File \u001b[0;32m~/gan_practice/.venv/lib/python3.8/site-packages/matplotlib/axes/_axes.py:1690\u001b[0m, in \u001b[0;36mAxes.plot\u001b[0;34m(self, scalex, scaley, data, *args, **kwargs)\u001b[0m\n\u001b[1;32m   1688\u001b[0m lines \u001b[39m=\u001b[39m [\u001b[39m*\u001b[39m\u001b[39mself\u001b[39m\u001b[39m.\u001b[39m_get_lines(\u001b[39m*\u001b[39margs, data\u001b[39m=\u001b[39mdata, \u001b[39m*\u001b[39m\u001b[39m*\u001b[39mkwargs)]\n\u001b[1;32m   1689\u001b[0m \u001b[39mfor\u001b[39;00m line \u001b[39min\u001b[39;00m lines:\n\u001b[0;32m-> 1690\u001b[0m     \u001b[39mself\u001b[39;49m\u001b[39m.\u001b[39;49madd_line(line)\n\u001b[1;32m   1691\u001b[0m \u001b[39mif\u001b[39;00m scalex:\n\u001b[1;32m   1692\u001b[0m     \u001b[39mself\u001b[39m\u001b[39m.\u001b[39m_request_autoscale_view(\u001b[39m\"\u001b[39m\u001b[39mx\u001b[39m\u001b[39m\"\u001b[39m)\n",
      "File \u001b[0;32m~/gan_practice/.venv/lib/python3.8/site-packages/matplotlib/axes/_base.py:2304\u001b[0m, in \u001b[0;36m_AxesBase.add_line\u001b[0;34m(self, line)\u001b[0m\n\u001b[1;32m   2301\u001b[0m \u001b[39mif\u001b[39;00m line\u001b[39m.\u001b[39mget_clip_path() \u001b[39mis\u001b[39;00m \u001b[39mNone\u001b[39;00m:\n\u001b[1;32m   2302\u001b[0m     line\u001b[39m.\u001b[39mset_clip_path(\u001b[39mself\u001b[39m\u001b[39m.\u001b[39mpatch)\n\u001b[0;32m-> 2304\u001b[0m \u001b[39mself\u001b[39;49m\u001b[39m.\u001b[39;49m_update_line_limits(line)\n\u001b[1;32m   2305\u001b[0m \u001b[39mif\u001b[39;00m \u001b[39mnot\u001b[39;00m line\u001b[39m.\u001b[39mget_label():\n\u001b[1;32m   2306\u001b[0m     line\u001b[39m.\u001b[39mset_label(\u001b[39mf\u001b[39m\u001b[39m'\u001b[39m\u001b[39m_child\u001b[39m\u001b[39m{\u001b[39;00m\u001b[39mlen\u001b[39m(\u001b[39mself\u001b[39m\u001b[39m.\u001b[39m_children)\u001b[39m}\u001b[39;00m\u001b[39m'\u001b[39m)\n",
      "File \u001b[0;32m~/gan_practice/.venv/lib/python3.8/site-packages/matplotlib/axes/_base.py:2327\u001b[0m, in \u001b[0;36m_AxesBase._update_line_limits\u001b[0;34m(self, line)\u001b[0m\n\u001b[1;32m   2323\u001b[0m \u001b[39mdef\u001b[39;00m \u001b[39m_update_line_limits\u001b[39m(\u001b[39mself\u001b[39m, line):\n\u001b[1;32m   2324\u001b[0m \u001b[39m    \u001b[39m\u001b[39m\"\"\"\u001b[39;00m\n\u001b[1;32m   2325\u001b[0m \u001b[39m    Figures out the data limit of the given line, updating self.dataLim.\u001b[39;00m\n\u001b[1;32m   2326\u001b[0m \u001b[39m    \"\"\"\u001b[39;00m\n\u001b[0;32m-> 2327\u001b[0m     path \u001b[39m=\u001b[39m line\u001b[39m.\u001b[39;49mget_path()\n\u001b[1;32m   2328\u001b[0m     \u001b[39mif\u001b[39;00m path\u001b[39m.\u001b[39mvertices\u001b[39m.\u001b[39msize \u001b[39m==\u001b[39m \u001b[39m0\u001b[39m:\n\u001b[1;32m   2329\u001b[0m         \u001b[39mreturn\u001b[39;00m\n",
      "File \u001b[0;32m~/gan_practice/.venv/lib/python3.8/site-packages/matplotlib/lines.py:1028\u001b[0m, in \u001b[0;36mLine2D.get_path\u001b[0;34m(self)\u001b[0m\n\u001b[1;32m   1026\u001b[0m \u001b[39m\u001b[39m\u001b[39m\"\"\"Return the `~matplotlib.path.Path` associated with this line.\"\"\"\u001b[39;00m\n\u001b[1;32m   1027\u001b[0m \u001b[39mif\u001b[39;00m \u001b[39mself\u001b[39m\u001b[39m.\u001b[39m_invalidy \u001b[39mor\u001b[39;00m \u001b[39mself\u001b[39m\u001b[39m.\u001b[39m_invalidx:\n\u001b[0;32m-> 1028\u001b[0m     \u001b[39mself\u001b[39;49m\u001b[39m.\u001b[39;49mrecache()\n\u001b[1;32m   1029\u001b[0m \u001b[39mreturn\u001b[39;00m \u001b[39mself\u001b[39m\u001b[39m.\u001b[39m_path\n",
      "File \u001b[0;32m~/gan_practice/.venv/lib/python3.8/site-packages/matplotlib/lines.py:659\u001b[0m, in \u001b[0;36mLine2D.recache\u001b[0;34m(self, always)\u001b[0m\n\u001b[1;32m    657\u001b[0m \u001b[39mif\u001b[39;00m always \u001b[39mor\u001b[39;00m \u001b[39mself\u001b[39m\u001b[39m.\u001b[39m_invalidx:\n\u001b[1;32m    658\u001b[0m     xconv \u001b[39m=\u001b[39m \u001b[39mself\u001b[39m\u001b[39m.\u001b[39mconvert_xunits(\u001b[39mself\u001b[39m\u001b[39m.\u001b[39m_xorig)\n\u001b[0;32m--> 659\u001b[0m     x \u001b[39m=\u001b[39m _to_unmasked_float_array(xconv)\u001b[39m.\u001b[39mravel()\n\u001b[1;32m    660\u001b[0m \u001b[39melse\u001b[39;00m:\n\u001b[1;32m    661\u001b[0m     x \u001b[39m=\u001b[39m \u001b[39mself\u001b[39m\u001b[39m.\u001b[39m_x\n",
      "File \u001b[0;32m~/gan_practice/.venv/lib/python3.8/site-packages/matplotlib/cbook/__init__.py:1340\u001b[0m, in \u001b[0;36m_to_unmasked_float_array\u001b[0;34m(x)\u001b[0m\n\u001b[1;32m   1338\u001b[0m     \u001b[39mreturn\u001b[39;00m np\u001b[39m.\u001b[39mma\u001b[39m.\u001b[39masarray(x, \u001b[39mfloat\u001b[39m)\u001b[39m.\u001b[39mfilled(np\u001b[39m.\u001b[39mnan)\n\u001b[1;32m   1339\u001b[0m \u001b[39melse\u001b[39;00m:\n\u001b[0;32m-> 1340\u001b[0m     \u001b[39mreturn\u001b[39;00m np\u001b[39m.\u001b[39;49masarray(x, \u001b[39mfloat\u001b[39;49m)\n",
      "File \u001b[0;32m~/gan_practice/.venv/lib/python3.8/site-packages/torch/_tensor.py:972\u001b[0m, in \u001b[0;36mTensor.__array__\u001b[0;34m(self, dtype)\u001b[0m\n\u001b[1;32m    970\u001b[0m     \u001b[39mreturn\u001b[39;00m \u001b[39mself\u001b[39m\u001b[39m.\u001b[39mnumpy()\n\u001b[1;32m    971\u001b[0m \u001b[39melse\u001b[39;00m:\n\u001b[0;32m--> 972\u001b[0m     \u001b[39mreturn\u001b[39;00m \u001b[39mself\u001b[39;49m\u001b[39m.\u001b[39;49mnumpy()\u001b[39m.\u001b[39mastype(dtype, copy\u001b[39m=\u001b[39m\u001b[39mFalse\u001b[39;00m)\n",
      "\u001b[0;31mTypeError\u001b[0m: can't convert cuda:0 device type tensor to numpy. Use Tensor.cpu() to copy the tensor to host memory first."
     ]
    },
    {
     "data": {
      "image/png": "[encoded data removed]",
      "text/plain": [
       "<Figure size 640x480 with 1 Axes>"
      ]
     },
     "metadata": {},
     "output_type": "display_data"
    }
   ],
   "source": [
    "plt.plot(train_data[:, 0].cpu(), train_data[:, 1].cpu(), \".\") # we need to use cpu() because we are using cuda"
   ]
  },
  {
   "cell_type": "code",
   "execution_count": 59,
   "metadata": {},
   "outputs": [],
   "source": [
    "batch_size = 32\n",
    "train_loader = torch.utils.data.DataLoader(\n",
    "    train_set, batch_size=batch_size, shuffle=True\n",
    ")"
   ]
  },
  {
   "cell_type": "markdown",
   "metadata": {},
   "source": [
    "Implement Discriminator: Discriminator outputs a one-dimensional probability (1 means real, 0 means fake)"
   ]
  },
  {
   "cell_type": "code",
   "execution_count": 60,
   "metadata": {},
   "outputs": [],
   "source": [
    "class Discriminator(nn.Module):\n",
    "    def __init__(self):\n",
    "        # We use an MLP with 3 hidden layers\n",
    "        # You can change this to any architecture you want\n",
    "        # You may use Conv2d as well\n",
    "        super().__init__()\n",
    "        self.model = nn.Sequential(\n",
    "            # 2 input features, 256 output features (hidden layer)\n",
    "            nn.Linear(2, 256),\n",
    "            nn.ReLU(),\n",
    "            # Dropout layer to prevent overfitting\n",
    "            # the number is the probability of dropping out a neuron\n",
    "            nn.Dropout(0.3),\n",
    "            # 256 input features, 128 output features (hidden layer)\n",
    "            # Since we had 256 hidden features in the previous layer, we need to have 256 input features in this layer\n",
    "            nn.Linear(256, 128),\n",
    "            nn.ReLU(),\n",
    "            nn.Dropout(0.3),\n",
    "            # 128 input features, 64 output features (hidden layer)\n",
    "            nn.Linear(128, 64),\n",
    "            nn.ReLU(),\n",
    "            nn.Dropout(0.3),\n",
    "            # 64 input features, 1 output features (output layer)\n",
    "            nn.Linear(64, 1),\n",
    "            # Since this is a binary classification, we use sigmoid at the end (if it was a multi-class classification, we would use softmax)\n",
    "            nn.Sigmoid()\n",
    "        )\n",
    "    \n",
    "    # x is the input data\n",
    "    # in this model the x should have 2 features (x and y)\n",
    "    # We first train the Discriminator on the real data\n",
    "    def forward(self, x):\n",
    "        output = self.model(x)\n",
    "        return output"
   ]
  },
  {
   "cell_type": "code",
   "execution_count": 61,
   "metadata": {},
   "outputs": [],
   "source": [
    "discriminator = Discriminator().to(device=device)"
   ]
  },
  {
   "cell_type": "markdown",
   "metadata": {},
   "source": [
    "Implementing Generator: Generator outputs a fake data that is intended to fool the discriminator"
   ]
  },
  {
   "cell_type": "code",
   "execution_count": 62,
   "metadata": {},
   "outputs": [],
   "source": [
    "class Generator(nn.Module):\n",
    "    def __init__(self):\n",
    "        super().__init__()\n",
    "        self.model = nn.Sequential(\n",
    "            nn.Linear(2, 16),\n",
    "            nn.ReLU(),\n",
    "            nn.Linear(16, 32),\n",
    "            nn.ReLU(),\n",
    "            nn.Linear(32, 2)\n",
    "        )\n",
    "    \n",
    "    def forward(self, x):\n",
    "        output = self.model(x)\n",
    "        return output\n",
    "\n",
    "\n"
   ]
  },
  {
   "cell_type": "code",
   "execution_count": 63,
   "metadata": {},
   "outputs": [],
   "source": [
    "generator = Generator().to(device=device)"
   ]
  },
  {
   "cell_type": "markdown",
   "metadata": {},
   "source": [
    "Train the model."
   ]
  },
  {
   "cell_type": "code",
   "execution_count": 64,
   "metadata": {},
   "outputs": [],
   "source": [
    "lr = 0.001 # learning rate\n",
    "num_epochs = 300 # number of epochs\n",
    "loss_function = nn.BCELoss() # Binary Cross Entropy Loss (since we are doing binary classification - whether the data is real or fake)\n"
   ]
  },
  {
   "cell_type": "code",
   "execution_count": 65,
   "metadata": {},
   "outputs": [],
   "source": [
    "# We will use Adam optimizer\n",
    "optimizer_discriminator = torch.optim.Adam(discriminator.parameters(), lr=lr)\n",
    "optimizer_generator = torch.optim.Adam(generator.parameters(), lr=lr)"
   ]
  },
  {
   "cell_type": "code",
   "execution_count": 66,
   "metadata": {},
   "outputs": [
    {
     "name": "stdout",
     "output_type": "stream",
     "text": [
      "Epoch: 0 Loss D.: 0.08866985887289047\n",
      "Epoch: 0 Loss G.: 2.7698917388916016\n",
      "Epoch: 10 Loss D.: 0.5289490818977356\n",
      "Epoch: 10 Loss G.: 1.1443384885787964\n",
      "Epoch: 20 Loss D.: 0.5869083404541016\n",
      "Epoch: 20 Loss G.: 0.9931597709655762\n",
      "Epoch: 30 Loss D.: 0.6270803213119507\n",
      "Epoch: 30 Loss G.: 0.9926261901855469\n",
      "Epoch: 40 Loss D.: 0.625130295753479\n",
      "Epoch: 40 Loss G.: 0.7606579661369324\n",
      "Epoch: 50 Loss D.: 0.6987178325653076\n",
      "Epoch: 50 Loss G.: 0.8083146810531616\n",
      "Epoch: 60 Loss D.: 0.6910607218742371\n",
      "Epoch: 60 Loss G.: 0.7647202610969543\n",
      "Epoch: 70 Loss D.: 0.6991082429885864\n",
      "Epoch: 70 Loss G.: 0.6622576117515564\n",
      "Epoch: 80 Loss D.: 0.6705498695373535\n",
      "Epoch: 80 Loss G.: 0.7437602281570435\n",
      "Epoch: 90 Loss D.: 0.6476490497589111\n",
      "Epoch: 90 Loss G.: 0.9166446924209595\n",
      "Epoch: 100 Loss D.: 0.7176741361618042\n",
      "Epoch: 100 Loss G.: 0.7915918827056885\n",
      "Epoch: 110 Loss D.: 0.68668532371521\n",
      "Epoch: 110 Loss G.: 0.7080502510070801\n",
      "Epoch: 120 Loss D.: 0.6887176036834717\n",
      "Epoch: 120 Loss G.: 0.6818917989730835\n",
      "Epoch: 130 Loss D.: 0.6451855301856995\n",
      "Epoch: 130 Loss G.: 0.840998113155365\n",
      "Epoch: 140 Loss D.: 0.6605318784713745\n",
      "Epoch: 140 Loss G.: 0.7188969850540161\n",
      "Epoch: 150 Loss D.: 0.6449195146560669\n",
      "Epoch: 150 Loss G.: 0.9313696622848511\n",
      "Epoch: 160 Loss D.: 0.7049485445022583\n",
      "Epoch: 160 Loss G.: 0.6882414817810059\n",
      "Epoch: 170 Loss D.: 0.6625816822052002\n",
      "Epoch: 170 Loss G.: 0.8195785284042358\n",
      "Epoch: 180 Loss D.: 0.6878719329833984\n",
      "Epoch: 180 Loss G.: 0.7124807834625244\n",
      "Epoch: 190 Loss D.: 0.6706900000572205\n",
      "Epoch: 190 Loss G.: 0.6663515567779541\n",
      "Epoch: 200 Loss D.: 0.7165998220443726\n",
      "Epoch: 200 Loss G.: 0.7503151893615723\n",
      "Epoch: 210 Loss D.: 0.6332687139511108\n",
      "Epoch: 210 Loss G.: 0.8450130224227905\n",
      "Epoch: 220 Loss D.: 0.6743861436843872\n",
      "Epoch: 220 Loss G.: 0.6837694644927979\n",
      "Epoch: 230 Loss D.: 0.6163294911384583\n",
      "Epoch: 230 Loss G.: 1.0132193565368652\n",
      "Epoch: 240 Loss D.: 0.6521042585372925\n",
      "Epoch: 240 Loss G.: 0.7774280905723572\n",
      "Epoch: 250 Loss D.: 0.603789210319519\n",
      "Epoch: 250 Loss G.: 1.0300062894821167\n",
      "Epoch: 260 Loss D.: 0.7494148015975952\n",
      "Epoch: 260 Loss G.: 0.8104855418205261\n",
      "Epoch: 270 Loss D.: 0.5816410779953003\n",
      "Epoch: 270 Loss G.: 1.2293857336044312\n",
      "Epoch: 280 Loss D.: 0.6622985601425171\n",
      "Epoch: 280 Loss G.: 0.8878247737884521\n",
      "Epoch: 290 Loss D.: 0.677768349647522\n",
      "Epoch: 290 Loss G.: 0.895281195640564\n"
     ]
    }
   ],
   "source": [
    "for epoch in range(num_epochs):\n",
    "    for n, (real_samples, _) in enumerate(train_loader):\n",
    "        real_samples_labels = torch.ones((batch_size, 1)).to(device=device)\n",
    "\n",
    "        latent_space_samples = torch.randn((batch_size, 2)).to(device=device)\n",
    "        generated_samples = generator(latent_space_samples)\n",
    "        generated_samples_labels = torch.zeros((batch_size, 1)).to(device=device)\n",
    "        all_samples = torch.cat((real_samples, generated_samples)).to(device=device)\n",
    "        all_samples_labels = torch.cat((real_samples_labels, generated_samples_labels)).to(device=device)\n",
    "\n",
    "        discriminator.zero_grad()\n",
    "        output_discriminator = discriminator(all_samples)\n",
    "        loss_discriminator = loss_function(output_discriminator, all_samples_labels)\n",
    "        loss_discriminator.backward()\n",
    "        optimizer_discriminator.step()\n",
    "\n",
    "        latent_space_samples = torch.randn((batch_size, 2)).to(device=device)\n",
    "        generated_samples = generator(latent_space_samples)\n",
    "        output_discriminator_generated = discriminator(generated_samples)\n",
    "        loss_generator = loss_function(output_discriminator_generated, real_samples_labels)\n",
    "        discriminator.zero_grad()\n",
    "        generator.zero_grad()\n",
    "        loss_generator.backward()\n",
    "        optimizer_generator.step()\n",
    "\n",
    "        if epoch % 10 == 0 and n == batch_size - 1:\n",
    "            print(f\"Epoch: {epoch} Loss D.: {loss_discriminator}\")\n",
    "            print(f\"Epoch: {epoch} Loss G.: {loss_generator}\")\n"
   ]
  },
  {
   "cell_type": "markdown",
   "metadata": {},
   "source": [
    "Checking the samples generated by GAN"
   ]
  },
  {
   "cell_type": "code",
   "execution_count": 67,
   "metadata": {},
   "outputs": [],
   "source": [
    "latent_space_samples = torch.randn(100, 2).to(device=device)\n",
    "# Now our trained generator will generate 100 samples that are able to fool the discriminator\n",
    "generated_samples = generator(latent_space_samples)"
   ]
  },
  {
   "cell_type": "code",
   "execution_count": 68,
   "metadata": {},
   "outputs": [
    {
     "data": {
      "text/plain": [
       "[<matplotlib.lines.Line2D at 0x7f69fd33f0d0>]"
      ]
     },
     "execution_count": 68,
     "metadata": {},
     "output_type": "execute_result"
    },
    {
     "data": {
      "image/png": "[encoded data removed]",
      "text/plain": [
       "<Figure size 640x480 with 1 Axes>"
      ]
     },
     "metadata": {},
     "output_type": "display_data"
    }
   ],
   "source": [
    "generated_samples = generated_samples.cpu().detach()\n",
    "plt.plot(generated_samples[:, 0], generated_samples[:, 1], \".\")"
   ]
  },
  {
   "cell_type": "code",
   "execution_count": null,
   "metadata": {},
   "outputs": [],
   "source": []
  }
 ],
 "metadata": {
  "kernelspec": {
   "display_name": ".venv",
   "language": "python",
   "name": "python3"
  },
  "language_info": {
   "codemirror_mode": {
    "name": "ipython",
    "version": 3
   },
   "file_extension": ".py",
   "mimetype": "text/x-python",
   "name": "python",
   "nbconvert_exporter": "python",
   "pygments_lexer": "ipython3",
   "version": "3.8.12"
  },
  "orig_nbformat": 4
 },
 "nbformat": 4,
 "nbformat_minor": 2
}
