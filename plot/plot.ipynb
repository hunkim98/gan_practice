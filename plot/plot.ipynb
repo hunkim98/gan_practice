{
 "cells": [
  {
   "cell_type": "code",
   "execution_count": 1,
   "metadata": {},
   "outputs": [],
   "source": [
    "import torch\n",
    "from torch import nn\n",
    "\n",
    "import math\n",
    "import matplotlib.pyplot as plt\n"
   ]
  },
  {
   "cell_type": "code",
   "execution_count": 2,
   "metadata": {},
   "outputs": [
    {
     "data": {
      "text/plain": [
       "<torch._C.Generator at 0x7f59f909d8b0>"
      ]
     },
     "execution_count": 2,
     "metadata": {},
     "output_type": "execute_result"
    }
   ],
   "source": [
    "RANDOM_SEED = 111\n",
    "torch.manual_seed(RANDOM_SEED)"
   ]
  },
  {
   "cell_type": "code",
   "execution_count": 3,
   "metadata": {},
   "outputs": [
    {
     "name": "stdout",
     "output_type": "stream",
     "text": [
      "CUDA Available\n"
     ]
    }
   ],
   "source": [
    "# Check for CUDA availability\n",
    "if torch.cuda.is_available():\n",
    "    print(\"CUDA Available\")\n",
    "    device = torch.device(\"cuda\")  # Use the GPU\n",
    "else:\n",
    "    print(\"CUDA Not Available\")\n",
    "    device = torch.device(\"cpu\")   # Use the CPU\n"
   ]
  },
  {
   "cell_type": "markdown",
   "metadata": {},
   "source": [
    "Preparing training data"
   ]
  },
  {
   "cell_type": "code",
   "execution_count": 75,
   "metadata": {},
   "outputs": [
    {
     "name": "stdout",
     "output_type": "stream",
     "text": [
      "(tensor([ 6.0881, -0.1938], device='cuda:0'), tensor(0.))\n",
      "1024\n",
      "(tensor([ 6.0881, -0.1938], device='cuda:0'), tensor(0.))\n"
     ]
    }
   ],
   "source": [
    "train_data_length = 1024\n",
    "# We will use a sin graph as our real data\n",
    "train_data = torch.zeros((train_data_length, 2)).to(device=device)\n",
    "# train_data[:, 0] means all rows, 0th column (In here our first column will be x data)\n",
    "# Random value from 0 to 2pi for x data\n",
    "train_data[:, 0] = 2 * math.pi * torch.rand(train_data_length).to(device=device) # x data\n",
    "# train_data[:, 1] means all rows, 1st column (In here our second column will be y data)\n",
    "# torch.sin is the answer to our model\n",
    "# y is the actual label\n",
    "train_data[:, 1] = torch.sin(train_data[:, 0]).to(device=device) # y data\n",
    "\n",
    "# the labels are required by pytorch data loader. But since GAN make use of unsuperivsed learning, we don't need labels\n",
    "train_labels = torch.zeros(train_data_length)\n",
    "train_set = [\n",
    "    (train_data[i], train_labels[i]) for i in range(train_data_length)\n",
    "]\n",
    "print(train_set[0])\n",
    "print(len(train_set))\n",
    "print(train_set[0])"
   ]
  },
  {
   "cell_type": "code",
   "execution_count": 5,
   "metadata": {},
   "outputs": [
    {
     "data": {
      "text/plain": [
       "[<matplotlib.lines.Line2D at 0x7f58d7b80c40>]"
      ]
     },
     "execution_count": 5,
     "metadata": {},
     "output_type": "execute_result"
    },
    {
     "data": {
      "image/png": "[encoded data removed]",
      "text/plain": [
       "<Figure size 640x480 with 1 Axes>"
      ]
     },
     "metadata": {},
     "output_type": "display_data"
    }
   ],
   "source": [
    "plt.plot(train_data[:, 0].cpu(), train_data[:, 1].cpu(), \".\") # we need to use cpu() because we are using cuda"
   ]
  },
  {
   "cell_type": "code",
   "execution_count": 6,
   "metadata": {},
   "outputs": [],
   "source": [
    "batch_size = 32\n",
    "train_loader = torch.utils.data.DataLoader(\n",
    "    train_set, batch_size=batch_size, shuffle=True\n",
    ")"
   ]
  },
  {
   "cell_type": "code",
   "execution_count": 79,
   "metadata": {},
   "outputs": [
    {
     "name": "stdout",
     "output_type": "stream",
     "text": [
      "tensor([0., 0., 0., 0., 0., 0., 0., 0., 0., 0., 0., 0., 0., 0., 0., 0., 0., 0., 0., 0., 0., 0., 0., 0.,\n",
      "        0., 0., 0., 0., 0., 0., 0., 0.])\n"
     ]
    }
   ],
   "source": [
    "for real, y in train_loader:\n",
    "    # print(real)\n",
    "    print(y)\n",
    "    break"
   ]
  },
  {
   "cell_type": "markdown",
   "metadata": {},
   "source": [
    "Implement Discriminator: Discriminator outputs a one-dimensional probability (1 means real, 0 means fake)"
   ]
  },
  {
   "cell_type": "code",
   "execution_count": 7,
   "metadata": {},
   "outputs": [],
   "source": [
    "class Discriminator(nn.Module):\n",
    "    def __init__(self):\n",
    "        # We use an MLP with 3 hidden layers\n",
    "        # You can change this to any architecture you want\n",
    "        # You may use Conv2d as well\n",
    "        super().__init__()\n",
    "        self.model = nn.Sequential(\n",
    "            # 2 input features, 256 output features (hidden layer)\n",
    "            nn.Linear(2, 256),\n",
    "            nn.ReLU(),\n",
    "            # Dropout layer to prevent overfitting\n",
    "            # the number is the probability of dropping out a neuron\n",
    "            nn.Dropout(0.3),\n",
    "            # 256 input features, 128 output features (hidden layer)\n",
    "            # Since we had 256 hidden features in the previous layer, we need to have 256 input features in this layer\n",
    "            nn.Linear(256, 128),\n",
    "            nn.ReLU(),\n",
    "            nn.Dropout(0.3),\n",
    "            # 128 input features, 64 output features (hidden layer)\n",
    "            nn.Linear(128, 64),\n",
    "            nn.ReLU(),\n",
    "            nn.Dropout(0.3),\n",
    "            # 64 input features, 1 output features (output layer)\n",
    "            nn.Linear(64, 1),\n",
    "            # Since this is a binary classification, we use sigmoid at the end (if it was a multi-class classification, we would use softmax)\n",
    "            nn.Sigmoid()\n",
    "        )\n",
    "    \n",
    "    # x is the input data\n",
    "    # in this model the x should have 2 features (x and y)\n",
    "    # We first train the Discriminator on the real data\n",
    "    def forward(self, x):\n",
    "        output = self.model(x)\n",
    "        return output"
   ]
  },
  {
   "cell_type": "code",
   "execution_count": 8,
   "metadata": {},
   "outputs": [],
   "source": [
    "discriminator = Discriminator().to(device=device)"
   ]
  },
  {
   "cell_type": "markdown",
   "metadata": {},
   "source": [
    "Implementing Generator: Generator outputs a fake data that is intended to fool the discriminator"
   ]
  },
  {
   "cell_type": "code",
   "execution_count": 69,
   "metadata": {},
   "outputs": [],
   "source": [
    "class Generator(nn.Module):\n",
    "    def __init__(self):\n",
    "        super().__init__()\n",
    "        self.model = nn.Sequential(\n",
    "            nn.Linear(2, 16),\n",
    "            nn.ReLU(),\n",
    "            nn.Linear(16, 32),\n",
    "            nn.ReLU(),\n",
    "            nn.Linear(32, 2),\n",
    "        )\n",
    "    \n",
    "    def forward(self, x):\n",
    "        output = self.model(x)\n",
    "        return output\n",
    "\n",
    "\n"
   ]
  },
  {
   "cell_type": "code",
   "execution_count": 70,
   "metadata": {},
   "outputs": [],
   "source": [
    "generator = Generator().to(device=device)"
   ]
  },
  {
   "cell_type": "markdown",
   "metadata": {},
   "source": [
    "Train the model."
   ]
  },
  {
   "cell_type": "markdown",
   "metadata": {},
   "source": []
  },
  {
   "cell_type": "code",
   "execution_count": 89,
   "metadata": {},
   "outputs": [],
   "source": [
    "lr = 0.001 # learning rate\n",
    "num_epochs = 100 # number of epochs\n",
    "def backward_hook(grad):\n",
    "    print(grad)\n",
    "loss_function = nn.BCELoss() # Binary Cross Entropy Loss (since we are doing binary classification - whether the data is real or fake)\n"
   ]
  },
  {
   "cell_type": "code",
   "execution_count": 90,
   "metadata": {},
   "outputs": [],
   "source": [
    "# We will use Adam optimizer\n",
    "optimizer_discriminator = torch.optim.Adam(discriminator.parameters(), lr=lr)\n",
    "optimizer_generator = torch.optim.Adam(generator.parameters(), lr=lr)"
   ]
  },
  {
   "cell_type": "code",
   "execution_count": 98,
   "metadata": {},
   "outputs": [
    {
     "name": "stdout",
     "output_type": "stream",
     "text": [
      "Epoch: 0 Loss D.: 0.6791531443595886\n",
      "Epoch: 0 Loss G.: 0.8393402695655823\n",
      "Epoch: 10 Loss D.: 0.6470686793327332\n",
      "Epoch: 10 Loss G.: 0.8310157060623169\n",
      "Epoch: 20 Loss D.: 0.5714586973190308\n",
      "Epoch: 20 Loss G.: 0.8323227763175964\n",
      "Epoch: 30 Loss D.: 0.6249933242797852\n",
      "Epoch: 30 Loss G.: 1.163915753364563\n",
      "Epoch: 40 Loss D.: 0.6425672769546509\n",
      "Epoch: 40 Loss G.: 0.7730309367179871\n",
      "Epoch: 50 Loss D.: 0.6941006183624268\n",
      "Epoch: 50 Loss G.: 0.6914523839950562\n",
      "Epoch: 60 Loss D.: 0.6707697510719299\n",
      "Epoch: 60 Loss G.: 0.8206080198287964\n",
      "Epoch: 70 Loss D.: 0.604220986366272\n",
      "Epoch: 70 Loss G.: 0.7990505695343018\n",
      "Epoch: 80 Loss D.: 0.5487982034683228\n",
      "Epoch: 80 Loss G.: 1.4084216356277466\n",
      "Epoch: 90 Loss D.: 0.5724806785583496\n",
      "Epoch: 90 Loss G.: 1.0265408754348755\n",
      "0\n"
     ]
    }
   ],
   "source": [
    "count = 0\n",
    "for epoch in range(num_epochs):\n",
    "    for n, (real_samples, _) in enumerate(train_loader):\n",
    "        real_samples_labels = torch.ones((batch_size, 1)).to(device=device)\n",
    "        # break\n",
    "\n",
    "        latent_space_samples = torch.randn((batch_size, 2)).to(device=device)\n",
    "        # print(latent_space_samples.shape)\n",
    "        generated_samples = generator(latent_space_samples)\n",
    "        # break\n",
    "\n",
    "        generated_samples_labels = torch.zeros((batch_size, 1)).to(device=device)\n",
    "        all_samples = torch.cat((real_samples, generated_samples)).to(device=device)\n",
    "        all_samples_labels = torch.cat((real_samples_labels, generated_samples_labels)).to(device=device)\n",
    "\n",
    "\n",
    "        discriminator.zero_grad()\n",
    "        output_discriminator = discriminator(all_samples)\n",
    "        loss_discriminator = loss_function(output_discriminator, all_samples_labels)\n",
    "        loss_discriminator.backward()\n",
    "        optimizer_discriminator.step()\n",
    "\n",
    "        # Generator\n",
    "\n",
    "        latent_space_samples = torch.randn((batch_size, 2)).to(device=device)\n",
    "        generated_samples = generator(latent_space_samples)\n",
    "        output_discriminator_generated = discriminator(generated_samples)\n",
    "        # print(output_discriminator_generated.shape)\n",
    "        loss_generator = loss_function(output_discriminator_generated, real_samples_labels)\n",
    "\n",
    "        generator.zero_grad()\n",
    "        # print(loss_generator.shape)\n",
    "        loss_generator.backward()\n",
    "\n",
    "\n",
    "\n",
    "        optimizer_generator.step()\n",
    "\n",
    "        if epoch % 10 == 0 and n == batch_size - 1:\n",
    "            print(f\"Epoch: {epoch} Loss D.: {loss_discriminator}\")\n",
    "            print(f\"Epoch: {epoch} Loss G.: {loss_generator}\")\n",
    "\n",
    "print(count)"
   ]
  },
  {
   "cell_type": "markdown",
   "metadata": {},
   "source": [
    "Checking the samples generated by GAN"
   ]
  },
  {
   "cell_type": "code",
   "execution_count": 94,
   "metadata": {},
   "outputs": [],
   "source": [
    "latent_space_samples = torch.randn(100, 2).to(device=device)"
   ]
  },
  {
   "cell_type": "code",
   "execution_count": 95,
   "metadata": {},
   "outputs": [
    {
     "data": {
      "text/plain": [
       "[<matplotlib.lines.Line2D at 0x7f58c14fd7c0>]"
      ]
     },
     "execution_count": 95,
     "metadata": {},
     "output_type": "execute_result"
    },
    {
     "data": {
      "image/png": "[encoded data removed]",
      "text/plain": [
       "<Figure size 640x480 with 1 Axes>"
      ]
     },
     "metadata": {},
     "output_type": "display_data"
    }
   ],
   "source": [
    "plt.plot(latent_space_samples[:, 0].cpu(), latent_space_samples[:, 1].cpu(), \".\")"
   ]
  },
  {
   "cell_type": "code",
   "execution_count": 96,
   "metadata": {},
   "outputs": [],
   "source": [
    "# Now our trained generator will generate 100 samples that are able to fool the discriminator\n",
    "generated_samples = generator(latent_space_samples)"
   ]
  },
  {
   "cell_type": "code",
   "execution_count": 97,
   "metadata": {},
   "outputs": [
    {
     "data": {
      "text/plain": [
       "[<matplotlib.lines.Line2D at 0x7f58c1476d60>]"
      ]
     },
     "execution_count": 97,
     "metadata": {},
     "output_type": "execute_result"
    },
    {
     "data": {
      "image/png": "[encoded data removed]",
      "text/plain": [
       "<Figure size 640x480 with 1 Axes>"
      ]
     },
     "metadata": {},
     "output_type": "display_data"
    }
   ],
   "source": [
    "generated_samples = generated_samples.cpu().detach()\n",
    "plt.plot(generated_samples[:, 0], generated_samples[:, 1], \".\")"
   ]
  },
  {
   "cell_type": "code",
   "execution_count": 79,
   "metadata": {},
   "outputs": [],
   "source": [
    "torch.save(generator.state_dict(), \"generator.pth\")\n",
    "torch.save(discriminator.state_dict(), \"discriminator.pth\")"
   ]
  },
  {
   "cell_type": "code",
   "execution_count": 82,
   "metadata": {},
   "outputs": [
    {
     "name": "stdout",
     "output_type": "stream",
     "text": [
      "Model's state_dict:\n",
      "model.0.weight \t torch.Size([16, 2])\n",
      "model.0.bias \t torch.Size([16])\n",
      "model.2.weight \t torch.Size([32, 16])\n",
      "model.2.bias \t torch.Size([32])\n",
      "model.4.weight \t torch.Size([2, 32])\n",
      "model.4.bias \t torch.Size([2])\n"
     ]
    }
   ],
   "source": [
    "print(\"Model's state_dict:\")\n",
    "for param_tensor in generator.state_dict():\n",
    "    print(param_tensor, \"\\t\", generator.state_dict()[param_tensor].size())\n"
   ]
  },
  {
   "cell_type": "code",
   "execution_count": 84,
   "metadata": {},
   "outputs": [
    {
     "name": "stdout",
     "output_type": "stream",
     "text": [
      "Discriminators's state_dict:\n",
      "model.0.weight \t tensor([[-3.5760e-02,  4.5280e-01],\n",
      "        [-8.9726e-02, -4.5776e-01],\n",
      "        [-6.2699e-01, -5.9596e-01],\n",
      "        [-4.9961e-02, -2.3550e-01],\n",
      "        [-6.5236e-02, -3.0417e-01],\n",
      "        [-1.6678e-01, -2.1080e-01],\n",
      "        [ 2.7048e-01,  3.0472e-01],\n",
      "        [-5.2899e-02,  3.6164e-01],\n",
      "        [-4.6010e-01, -6.2679e-02],\n",
      "        [-1.0161e-01, -1.4337e-01],\n",
      "        [ 2.3149e-01,  2.8756e-01],\n",
      "        [ 8.7188e-02,  3.1755e-01],\n",
      "        [ 3.5521e-01,  4.0270e-01],\n",
      "        [ 1.5219e-01,  4.2221e-01],\n",
      "        [-2.7809e-01, -2.7873e-01],\n",
      "        [-6.1134e-02, -1.8589e-01],\n",
      "        [-6.3376e-01,  1.4190e-01],\n",
      "        [-4.3821e-01,  4.7709e-01],\n",
      "        [-2.0062e-02,  1.2642e-01],\n",
      "        [ 4.5879e-02, -7.1656e-01],\n",
      "        [-2.4399e-01,  9.7048e-02],\n",
      "        [-6.2367e-02, -5.4352e-01],\n",
      "        [ 3.9039e-01,  4.2150e-01],\n",
      "        [-5.2037e-01, -1.1993e-01],\n",
      "        [-6.3809e-01,  3.5008e-01],\n",
      "        [ 2.9128e-01,  2.4697e-01],\n",
      "        [-1.8931e-01, -7.4462e-01],\n",
      "        [-5.3546e-02,  5.8310e-02],\n",
      "        [ 2.1598e-01,  2.4679e-01],\n",
      "        [-6.9169e-01,  7.6674e-01],\n",
      "        [ 1.9401e-01,  3.5729e-01],\n",
      "        [-1.1982e-02,  1.4115e-01],\n",
      "        [-1.0447e-01, -2.9068e-01],\n",
      "        [-6.8593e-01,  2.6841e-01],\n",
      "        [-7.5569e-05, -6.6854e-01],\n",
      "        [-7.6794e-01,  8.6371e-01],\n",
      "        [-5.6865e-01,  8.5482e-01],\n",
      "        [-5.6096e-01,  7.0425e-01],\n",
      "        [ 2.9381e-02,  3.8467e-01],\n",
      "        [-5.6767e-04,  3.2801e-01],\n",
      "        [-7.2327e-01,  1.3110e-01],\n",
      "        [-6.0571e-01,  1.9374e-01],\n",
      "        [-2.4832e-01, -2.5217e-01],\n",
      "        [-1.9624e-01, -1.7045e-01],\n",
      "        [-4.6788e-01,  4.9768e-01],\n",
      "        [-1.0028e-01, -2.9600e-01],\n",
      "        [-5.6729e-01,  2.5580e-01],\n",
      "        [-2.0402e+00, -1.2571e+00],\n",
      "        [-6.2750e-01, -2.1410e-01],\n",
      "        [-3.9310e-01,  3.0589e-01],\n",
      "        [-4.2647e-01, -3.4806e-01],\n",
      "        [-3.7081e-01,  8.9811e-01],\n",
      "        [ 2.1695e-01,  3.9969e-01],\n",
      "        [ 3.5035e-01,  2.3533e-01],\n",
      "        [ 5.3761e-02,  2.5173e-01],\n",
      "        [ 3.6633e-01,  3.9546e-01],\n",
      "        [ 1.5162e-01, -5.1152e-01],\n",
      "        [-2.5887e-02,  3.0844e-01],\n",
      "        [-6.0952e-02,  1.2699e-01],\n",
      "        [ 2.5334e-01,  1.2772e-01],\n",
      "        [ 5.8077e-02, -7.7353e-01],\n",
      "        [-6.5099e-02, -1.6787e-01],\n",
      "        [-2.2594e-01, -2.5370e-01],\n",
      "        [ 3.3250e-01,  3.5622e-01],\n",
      "        [ 1.2172e-01,  2.9349e-01],\n",
      "        [-2.0056e-01, -5.9672e-01],\n",
      "        [-2.8318e-02,  1.9067e-01],\n",
      "        [ 1.4167e-01, -6.9043e-01],\n",
      "        [-4.6613e-01, -2.2883e-01],\n",
      "        [-2.1756e-01,  4.8541e-01],\n",
      "        [-9.7644e-02, -3.9037e-01],\n",
      "        [ 3.3032e-01,  3.7031e-01],\n",
      "        [ 4.2365e-01,  4.5360e-01],\n",
      "        [ 1.6276e-01,  5.0479e-01],\n",
      "        [-1.3254e-01, -5.7229e-01],\n",
      "        [-5.9308e-01, -8.5157e-03],\n",
      "        [ 8.0581e-02,  3.2033e-01],\n",
      "        [-1.0007e-02, -1.0572e-01],\n",
      "        [ 3.0728e-01,  2.7299e-01],\n",
      "        [-1.8054e+00, -1.0718e+00],\n",
      "        [-5.9295e-01, -5.1465e-01],\n",
      "        [-2.4845e-01,  1.3081e-01],\n",
      "        [ 2.2914e-01, -3.2063e-01],\n",
      "        [-1.2360e-01,  2.7979e-01],\n",
      "        [ 1.4192e-01,  5.6638e-01],\n",
      "        [-5.9296e-01,  3.1175e-01],\n",
      "        [ 3.2994e-02,  3.2769e-02],\n",
      "        [ 7.1324e-02,  5.0819e-01],\n",
      "        [-5.7973e-01,  5.7483e-01],\n",
      "        [-2.0313e-01,  7.2765e-01],\n",
      "        [ 3.5480e-01,  3.5529e-01],\n",
      "        [ 8.1986e-02,  4.8853e-01],\n",
      "        [-9.3843e-02, -3.6976e-01],\n",
      "        [ 3.2911e-02,  1.6592e-02],\n",
      "        [-2.4862e-01, -3.1852e-01],\n",
      "        [-7.5943e-02, -4.5353e-01],\n",
      "        [-4.1333e-02, -4.7540e-01],\n",
      "        [ 3.3656e-01,  3.6136e-01],\n",
      "        [-4.7603e-01, -6.4355e-01],\n",
      "        [-3.7361e-01,  8.0029e-01],\n",
      "        [-5.3065e-01,  6.8412e-01],\n",
      "        [-3.7734e-01,  5.7603e-01],\n",
      "        [ 1.0298e-01, -2.6445e-01],\n",
      "        [ 3.3251e-01,  3.6788e-01],\n",
      "        [-1.2960e-01, -4.3055e-01],\n",
      "        [-3.4059e-01,  5.0384e-01],\n",
      "        [-3.3562e-02,  1.4640e-01],\n",
      "        [-2.3681e-01, -9.5910e-01],\n",
      "        [ 2.4208e-02, -6.8691e-01],\n",
      "        [-1.2124e-01,  1.7343e-01],\n",
      "        [-1.3616e-01, -7.5992e-01],\n",
      "        [ 1.4970e-01,  4.4362e-01],\n",
      "        [-6.6374e-01,  3.5829e-01],\n",
      "        [-5.9443e-01, -4.2089e-01],\n",
      "        [-5.8770e-01,  4.1235e-01],\n",
      "        [-6.5765e-01,  2.8356e-01],\n",
      "        [ 7.3648e-02,  5.3249e-01],\n",
      "        [ 3.2354e-01,  3.5098e-01],\n",
      "        [ 2.1215e-02, -4.6296e-01],\n",
      "        [-5.4571e-02,  7.1446e-01],\n",
      "        [-9.5696e-02, -2.8948e-01],\n",
      "        [-7.7456e-01, -7.6328e-01],\n",
      "        [-2.2546e-01,  7.8511e-01],\n",
      "        [ 1.7453e-01,  2.7872e-01],\n",
      "        [-1.3697e-01, -3.2381e-01],\n",
      "        [-7.3836e-02,  5.9787e-02],\n",
      "        [-9.2800e-02,  9.2346e-02],\n",
      "        [ 2.6117e-02,  8.9074e-05],\n",
      "        [-6.2871e-03, -3.0277e-01],\n",
      "        [-1.1266e-01, -1.4178e-01],\n",
      "        [-3.9935e-01, -1.4529e-01],\n",
      "        [-2.0604e-01, -2.2582e-01],\n",
      "        [ 2.9251e-01,  3.2158e-01],\n",
      "        [-1.0881e-01, -9.8790e-02],\n",
      "        [ 2.7182e-01,  2.9842e-01],\n",
      "        [ 4.9217e-02,  2.5891e-01],\n",
      "        [ 1.5842e-01,  1.8324e-01],\n",
      "        [-5.6140e-02, -7.4516e-01],\n",
      "        [-1.0202e-02,  4.2604e-01],\n",
      "        [ 1.5287e-01, -4.1965e-01],\n",
      "        [-4.6280e-01,  2.8729e-01],\n",
      "        [-4.3544e-02, -3.3137e-01],\n",
      "        [ 1.4424e-01, -5.6278e-01],\n",
      "        [-5.3534e-01, -6.7577e-01],\n",
      "        [ 2.9591e-01,  3.2866e-01],\n",
      "        [-1.9441e-01, -2.3725e-01],\n",
      "        [ 9.6105e-02, -6.4909e-01],\n",
      "        [ 1.1798e-01,  3.2486e-01],\n",
      "        [-1.8226e-01, -2.0437e-01],\n",
      "        [-3.1696e-02,  5.0870e-01],\n",
      "        [ 1.9256e-01, -3.4433e-01],\n",
      "        [-3.4256e-01, -2.6885e-01],\n",
      "        [-7.5117e-01,  1.0905e+00],\n",
      "        [-7.2543e-01,  7.1360e-01],\n",
      "        [-5.6635e-02, -5.4599e-01],\n",
      "        [-1.9592e-01, -2.6327e-01],\n",
      "        [ 9.1982e-03, -1.3017e-01],\n",
      "        [-1.1486e-01, -3.3246e-01],\n",
      "        [-2.7506e-02,  5.5943e-01],\n",
      "        [ 3.2186e-01,  3.4089e-01],\n",
      "        [-3.8896e-01,  3.4397e-02],\n",
      "        [-5.7878e-01, -2.5443e-01],\n",
      "        [ 9.7918e-02, -3.6714e-01],\n",
      "        [ 1.2995e-01, -3.1728e-01],\n",
      "        [ 6.2364e-02,  4.0091e-01],\n",
      "        [ 9.3301e-02,  1.2121e-01],\n",
      "        [-9.9796e-02,  6.8275e-01],\n",
      "        [-1.1469e+00, -2.8165e-01],\n",
      "        [ 1.1653e-01, -5.0344e-01],\n",
      "        [-2.8254e-02,  2.5190e-01],\n",
      "        [-3.9200e-02,  5.8996e-01],\n",
      "        [-5.9079e-02,  2.5331e-01],\n",
      "        [-4.0702e-01,  5.1976e-01],\n",
      "        [-6.5560e-01,  3.1240e-01],\n",
      "        [-1.2132e-01,  3.6029e-01],\n",
      "        [ 1.3662e-01, -3.4263e-01],\n",
      "        [-2.2692e-01, -2.0014e-01],\n",
      "        [-4.9099e-02, -7.3621e-01],\n",
      "        [-4.5630e-01, -2.7056e-01],\n",
      "        [ 1.5008e-01, -3.2453e-01],\n",
      "        [ 3.1880e-01,  3.4127e-01],\n",
      "        [-1.0613e-01,  7.0889e-02],\n",
      "        [-6.3564e-01,  6.1010e-01],\n",
      "        [-1.0286e-01, -3.3714e-01],\n",
      "        [ 2.9308e-01,  2.9957e-01],\n",
      "        [-6.7243e-03, -7.8420e-02],\n",
      "        [-1.8370e-01, -1.5952e-01],\n",
      "        [-3.1620e-01,  7.2035e-01],\n",
      "        [-2.5859e-01, -9.1505e-01],\n",
      "        [-1.3731e-01, -3.2773e-01],\n",
      "        [-3.0070e-02, -8.9305e-02],\n",
      "        [ 1.9206e-01, -3.0113e-01],\n",
      "        [-5.2561e-01, -3.7531e-01],\n",
      "        [-2.6663e-01, -2.9614e-01],\n",
      "        [-2.3333e-01, -1.0132e+00],\n",
      "        [-7.1391e-02,  2.1295e-01],\n",
      "        [ 1.3806e-01, -4.9731e-01],\n",
      "        [-5.0808e-01,  1.8822e-01],\n",
      "        [-9.6429e-02, -1.4128e-01],\n",
      "        [ 1.7563e-01, -3.9781e-01],\n",
      "        [-3.8693e-01, -3.0040e-01],\n",
      "        [-1.0140e-01, -1.6047e-01],\n",
      "        [-4.5184e-01,  5.3207e-01],\n",
      "        [-2.6257e-01, -9.2661e-01],\n",
      "        [ 2.1713e-01,  2.4177e-01],\n",
      "        [-2.3773e-01, -2.9037e-01],\n",
      "        [-6.0364e-01,  4.7037e-01],\n",
      "        [-4.3672e-01,  4.1352e-01],\n",
      "        [ 1.3681e-01,  3.5923e-01],\n",
      "        [-1.7075e-01,  7.5808e-01],\n",
      "        [-5.9889e-01,  6.7264e-01],\n",
      "        [ 6.1746e-02,  4.0383e-01],\n",
      "        [-1.5193e-02, -6.4057e-01],\n",
      "        [-2.7318e-01,  5.0083e-02],\n",
      "        [-3.4058e-01,  7.8372e-01],\n",
      "        [-2.9785e-01,  1.2624e-01],\n",
      "        [-2.5288e-01,  1.3647e-01],\n",
      "        [-5.5544e-02, -2.6537e-01],\n",
      "        [ 1.3961e-01, -5.3137e-01],\n",
      "        [ 1.3384e-02, -5.7099e-02],\n",
      "        [-5.6721e-01,  6.1390e-01],\n",
      "        [-5.0122e-02, -5.0117e-01],\n",
      "        [ 2.0853e-01,  2.5309e-01],\n",
      "        [ 2.4926e-01,  3.3069e-01],\n",
      "        [ 3.4210e-01,  3.8018e-01],\n",
      "        [-6.3128e-01, -2.1207e-01],\n",
      "        [-4.6617e-01, -5.1255e-01],\n",
      "        [ 1.2947e-01, -3.2070e-01],\n",
      "        [-2.6920e-01,  7.2737e-01],\n",
      "        [ 2.8260e-01,  3.0161e-01],\n",
      "        [ 1.2414e-01,  3.3403e-01],\n",
      "        [-7.7163e-02, -2.1995e-01],\n",
      "        [ 1.6676e-01, -5.6302e-01],\n",
      "        [ 4.3585e-01,  4.7665e-01],\n",
      "        [ 8.1639e-03, -2.7998e-01],\n",
      "        [-3.1039e-01, -6.1869e-01],\n",
      "        [ 3.1400e-01,  3.5246e-01],\n",
      "        [-1.7093e-01, -4.7707e-01],\n",
      "        [-4.8585e-01, -4.9528e-01],\n",
      "        [-1.9278e-01, -2.1806e-01],\n",
      "        [ 3.7873e-01,  4.3083e-01],\n",
      "        [-6.9505e-01, -4.6338e-01],\n",
      "        [-3.2824e-01, -2.6848e-01],\n",
      "        [-2.2151e-01, -2.3999e-01],\n",
      "        [-2.2935e-01, -1.1268e+00],\n",
      "        [-1.0175e-01, -1.4335e-02],\n",
      "        [-1.3430e-01, -9.5457e-02],\n",
      "        [-2.5070e-01,  7.4813e-01],\n",
      "        [-6.2546e-01, -6.8730e-02],\n",
      "        [ 1.7791e-01, -4.5113e-01],\n",
      "        [-1.8871e-01, -2.0604e-01],\n",
      "        [ 5.2260e-02,  3.6601e-01],\n",
      "        [-2.4545e-02,  2.2133e-01],\n",
      "        [-6.0945e-01,  1.1747e-01],\n",
      "        [-4.4383e-02, -5.5782e-01],\n",
      "        [ 3.1210e-01,  1.1314e-01]], device='cuda:0')\n",
      "model.0.bias \t tensor([ 4.6989e-01,  3.1799e-02,  7.4548e-01,  6.2402e-02,  4.9713e-01,\n",
      "         5.6578e-01, -8.5683e-01,  5.6875e-01, -3.9676e-01,  3.3691e-01,\n",
      "        -7.2459e-01, -4.2140e-01, -1.1111e+00, -5.9844e-01,  8.8003e-01,\n",
      "         3.0304e-01, -6.6050e-01,  4.5777e-03, -1.1249e-01, -7.9740e-01,\n",
      "        -3.2696e-01, -1.6222e-01, -1.2088e+00, -2.7535e-01,  4.7957e-01,\n",
      "        -8.9163e-01,  3.4986e-01,  2.1163e-02, -6.9063e-01, -4.6281e-03,\n",
      "        -6.7196e-01, -7.1459e-02, -4.8224e-01,  5.8508e-01, -5.9164e-01,\n",
      "        -1.6567e-02, -1.5831e-01,  3.7989e-01, -1.4263e-01,  1.2484e-01,\n",
      "         5.4688e-01,  6.2011e-01,  8.0712e-01,  6.9068e-01,  4.7670e-03,\n",
      "        -5.0920e-01,  4.6295e-01,  1.2998e-01,  6.0699e-01, -5.1206e-01,\n",
      "         4.3290e-01, -4.0937e-01, -7.5999e-01, -1.0551e+00, -2.8118e-01,\n",
      "        -1.1383e+00, -1.0332e+00, -1.9160e-01, -1.7870e-02, -7.3469e-01,\n",
      "        -9.7622e-01,  9.5177e-02,  7.4342e-01, -1.0143e+00, -4.6247e-01,\n",
      "         1.0260e-01,  1.3558e-01, -1.1214e+00,  5.4539e-01,  1.2279e-01,\n",
      "         1.9637e-01, -1.0156e+00, -1.3167e+00, -6.9459e-01,  1.9685e-01,\n",
      "         4.6157e-01, -3.8941e-01, -1.1340e-01, -9.4128e-01,  1.2231e-01,\n",
      "         5.9626e-01,  1.9384e-01, -1.2531e+00,  9.2202e-01, -6.9161e-01,\n",
      "        -3.7271e-01, -2.6832e-01, -4.6762e-01,  2.4724e-01,  1.5499e-02,\n",
      "        -1.0922e+00, -2.3326e-01,  4.8511e-02, -2.8998e-01,  8.4652e-01,\n",
      "         2.3297e-02,  3.1789e-01, -1.0345e+00, -5.9618e-01,  2.6407e-01,\n",
      "         4.6411e-01,  3.0669e-01, -6.7931e-01, -1.0309e+00,  2.7675e-01,\n",
      "         3.3522e-01, -1.1239e-01,  2.0077e-01, -6.3940e-01,  8.7338e-01,\n",
      "         6.9666e-02, -6.0009e-01,  5.1043e-01,  3.7988e-01,  3.1081e-01,\n",
      "        -6.2083e-01, -4.5539e-01, -9.9588e-01, -3.4685e-02, -3.5902e-01,\n",
      "         4.7607e-01,  1.9599e-01,  4.6232e-02, -5.9642e-01, -3.3309e-01,\n",
      "         4.9244e-01,  6.3665e-01, -3.0941e-01, -2.0437e-01,  3.9550e-01,\n",
      "        -6.2089e-01,  7.0164e-01, -8.9479e-01,  1.1764e-01, -8.4373e-01,\n",
      "        -3.1844e-01, -5.7522e-01, -2.6316e-01,  1.1725e-01, -9.5005e-01,\n",
      "         3.6278e-01,  2.2808e-01, -7.4808e-01,  4.2607e-01, -9.2946e-01,\n",
      "         6.6170e-01, -4.4313e-01, -4.6537e-01, -6.3343e-01,  4.2520e-01,\n",
      "        -1.1804e+00, -1.1565e-01, -1.6777e-01,  5.3325e-01, -6.9933e-02,\n",
      "         6.7785e-01, -2.1618e-01,  5.9698e-01,  6.1782e-01, -9.9773e-01,\n",
      "         3.5137e-01,  5.7253e-01, -4.0942e-01, -8.4798e-01, -3.9956e-01,\n",
      "        -4.5772e-01, -2.3319e-01,  6.5962e-02, -6.0798e-01, -9.1096e-02,\n",
      "         6.6093e-01,  3.6955e-01, -6.0970e-01, -4.6809e-01,  9.7308e-01,\n",
      "        -8.6790e-01,  1.6180e-01, -3.7272e-01,  4.0513e-01, -9.5479e-01,\n",
      "        -9.8342e-01,  1.6900e-01,  1.8879e-01,  1.6709e-01, -8.9811e-01,\n",
      "        -3.4018e-01,  5.7911e-01, -7.6110e-02,  3.7411e-01,  3.8468e-01,\n",
      "        -3.8372e-02, -1.1530e+00, -3.4047e-01,  8.8070e-01,  2.1486e-01,\n",
      "         2.7330e-01, -8.4115e-01, -7.0205e-01,  1.2301e-01, -1.1309e+00,\n",
      "         4.4592e-01,  2.6773e-01,  6.7249e-01,  4.0793e-01, -6.8878e-01,\n",
      "         8.4086e-01,  3.5715e-01, -5.9634e-01, -5.2667e-01, -4.6619e-01,\n",
      "        -9.1340e-03, -3.5080e-01, -3.4615e-01, -1.1168e-01, -3.3028e-01,\n",
      "        -6.9681e-01,  8.4391e-01, -4.1034e-02, -7.6352e-01, -1.7605e-01,\n",
      "        -9.7253e-04, -2.1223e-01, -6.6094e-01, -8.0815e-01, -1.0558e+00,\n",
      "         5.4114e-01, -2.6375e-01, -8.5841e-01, -6.3808e-02, -8.7378e-01,\n",
      "        -4.9882e-01,  3.6760e-01, -8.3064e-01, -1.3520e+00, -3.5776e-01,\n",
      "        -5.3793e-01, -9.6862e-01,  4.2741e-01, -6.4622e-01,  6.3096e-01,\n",
      "        -1.1679e+00, -3.3869e-01,  3.8027e-01,  7.3208e-01,  1.4519e-01,\n",
      "         3.2346e-01,  7.2316e-01,  2.7883e-02, -2.1242e-01, -1.1847e+00,\n",
      "         6.2719e-01, -2.4657e-01, -1.6951e-01, -5.4464e-01, -1.5101e-01,\n",
      "        -9.5218e-01], device='cuda:0')\n",
      "model.3.weight \t tensor([[-0.0324, -0.0082,  0.0490,  ..., -0.0322, -0.0236, -0.0672],\n",
      "        [-0.0391, -0.0558,  0.0460,  ..., -0.0450, -0.0591,  0.0191],\n",
      "        [-0.2198, -0.0362, -0.0338,  ..., -0.0485,  0.0434,  0.0262],\n",
      "        ...,\n",
      "        [-0.0971,  0.0184,  0.0233,  ...,  0.0436,  0.0052, -0.0198],\n",
      "        [-0.0503,  0.0518,  0.0586,  ...,  0.0176, -0.0103, -0.0192],\n",
      "        [-0.1331, -0.0263,  0.0332,  ..., -0.0242,  0.0155, -0.0149]],\n",
      "       device='cuda:0')\n",
      "model.3.bias \t tensor([-4.4386e-02, -7.8293e-02, -6.1070e-01,  8.4273e-02, -6.8839e-02,\n",
      "        -2.6861e-02, -1.9285e-01, -5.2533e-01, -1.2509e-01, -7.6134e-02,\n",
      "        -6.3404e-01,  5.4400e-02, -4.3700e-02, -4.1635e-02, -3.5718e-02,\n",
      "        -3.0926e-01, -2.5431e-02,  2.4080e-02,  2.2004e-01, -6.3419e-02,\n",
      "        -2.6461e-02, -2.9212e-01,  1.6114e-01, -1.1540e-01,  2.8178e-01,\n",
      "        -7.7463e-05, -3.2545e-03, -8.5246e-02, -8.6044e-03, -1.1947e-01,\n",
      "        -6.0836e-01, -1.1167e-01, -2.6007e-02, -7.3805e-02, -1.7068e-02,\n",
      "        -1.2485e-01,  3.4761e-01, -5.4720e-02,  3.1037e-02, -7.1022e-02,\n",
      "         1.3375e-01, -1.6426e-01, -1.4820e-01,  1.3237e-01,  1.5720e-01,\n",
      "        -1.0016e-01, -2.8873e-02, -9.5978e-02, -1.3254e-01, -1.4625e-02,\n",
      "        -2.0501e-01, -8.2446e-02, -7.4331e-02, -7.7026e-02, -5.7787e-01,\n",
      "        -8.6794e-02, -6.9560e-02,  2.4175e-02, -4.4641e-02, -3.6764e-02,\n",
      "        -5.4481e-01, -1.1972e-01,  1.2600e-01, -7.6757e-02, -1.4711e-01,\n",
      "         2.6183e-01, -3.2194e-02, -3.3017e-01, -7.0351e-03, -1.2073e-01,\n",
      "        -1.0729e-01, -6.8316e-02, -1.4731e-01,  5.7927e-02, -6.2400e-01,\n",
      "        -1.0625e-01, -8.3366e-02, -3.1877e-02, -5.8499e-01,  2.6480e-01,\n",
      "        -6.7795e-02, -1.1100e-01,  2.0352e-01, -1.1987e-01, -9.0584e-02,\n",
      "        -3.0638e-02, -1.7345e-02, -8.5246e-02, -1.6763e-01, -1.2284e-02,\n",
      "        -4.2593e-02, -8.9224e-02, -2.1982e-02, -2.0456e-02, -2.7449e-02,\n",
      "        -8.1457e-02, -3.4307e-01, -6.6169e-02, -1.8798e-02, -1.4537e-01,\n",
      "         4.8339e-02, -1.5046e-02, -1.6542e-01, -1.6664e-01,  2.5966e-01,\n",
      "        -3.8145e-02, -1.4684e-01, -7.1922e-02, -1.4423e-02, -4.6796e-01,\n",
      "         1.4810e-01, -1.5704e-01, -1.0935e-01,  7.3391e-02,  2.6205e-01,\n",
      "        -3.6180e-01, -1.2100e-01, -8.5043e-02,  2.1932e-01, -2.9799e-01,\n",
      "        -9.9583e-02,  1.8466e-01,  2.2263e-01,  1.6941e-02, -5.4289e-02,\n",
      "        -3.6021e-02,  2.3509e-02, -6.3543e-02], device='cuda:0')\n",
      "model.6.weight \t tensor([[-0.0083, -0.0212,  0.0011,  ..., -0.0084,  0.0331, -0.0070],\n",
      "        [ 0.0153,  0.0016,  0.0235,  ...,  0.0511, -0.0723,  0.0492],\n",
      "        [ 0.0707, -0.0030, -0.0419,  ...,  0.0419, -0.0554,  0.0328],\n",
      "        ...,\n",
      "        [-0.0577, -0.0046, -0.1543,  ..., -0.0287,  0.0005,  0.1118],\n",
      "        [-0.0170,  0.0064,  0.0192,  ..., -0.0239,  0.0820, -0.0022],\n",
      "        [ 0.0714, -0.0374, -0.0226,  ...,  0.0867, -0.0571, -0.0178]],\n",
      "       device='cuda:0')\n",
      "model.6.bias \t tensor([ 0.0396, -0.0283, -0.2143, -0.1527,  0.5011, -0.2971,  0.3201, -0.0491,\n",
      "         0.0883, -0.0034,  0.1689, -0.0607,  0.4130, -0.0629,  0.1745, -0.1484,\n",
      "         0.0593, -0.0241, -0.9848, -0.0355, -0.0290, -0.1357,  0.4570,  0.1443,\n",
      "        -0.7869,  0.0725, -0.1741,  0.0464, -0.0820,  0.0596, -0.8423,  0.2484,\n",
      "        -0.1049,  0.1967, -0.0469, -0.0363,  0.3415, -0.1397,  0.1040, -0.1338,\n",
      "        -0.4859, -0.0492,  0.3428, -0.0434, -0.0704, -0.3518,  0.1205,  0.3771,\n",
      "         0.0666,  0.2057, -0.1168, -0.1111,  0.4605,  0.2051,  0.4344,  0.3297,\n",
      "        -0.3143,  0.3820,  0.1668,  0.3369, -0.2650, -0.0406, -0.1493, -0.0970],\n",
      "       device='cuda:0')\n",
      "model.9.weight \t tensor([[ 0.0027,  0.1772,  0.1453, -0.0010, -0.4233, -0.1941, -0.4935, -0.0388,\n",
      "         -0.1822, -0.0781,  0.1076, -0.1390, -0.3896,  0.0222,  0.2861,  0.1612,\n",
      "          0.0254,  0.1292, -0.2352, -0.1211,  0.0265, -0.2681, -0.5938,  0.2687,\n",
      "         -0.1628,  0.1479,  0.0095, -0.1686,  0.0582, -0.4142, -0.2560,  0.1477,\n",
      "          0.0875,  0.2810,  0.0426, -0.1413, -0.4639, -0.0150,  0.2709,  0.1079,\n",
      "         -0.1672, -0.0012, -0.1947, -0.0101,  0.0086, -0.1410,  0.2427, -0.4747,\n",
      "          0.1131, -0.0633,  0.0521, -0.0015, -0.4379, -0.1787, -0.5405, -0.4285,\n",
      "         -0.1401, -0.4180, -0.3956, -0.1802, -0.0074, -0.0072, -0.1292,  0.0786]],\n",
      "       device='cuda:0')\n",
      "model.9.bias \t tensor([0.2114], device='cuda:0')\n"
     ]
    }
   ],
   "source": [
    "print(\"Discriminators's state_dict:\")\n",
    "for var_name in discriminator.state_dict():\n",
    "    print(var_name, \"\\t\", discriminator.state_dict()[var_name])"
   ]
  },
  {
   "cell_type": "code",
   "execution_count": null,
   "metadata": {},
   "outputs": [],
   "source": []
  }
 ],
 "metadata": {
  "kernelspec": {
   "display_name": ".venv",
   "language": "python",
   "name": "python3"
  },
  "language_info": {
   "codemirror_mode": {
    "name": "ipython",
    "version": 3
   },
   "file_extension": ".py",
   "mimetype": "text/x-python",
   "name": "python",
   "nbconvert_exporter": "python",
   "pygments_lexer": "ipython3",
   "version": "3.8.12"
  },
  "orig_nbformat": 4
 },
 "nbformat": 4,
 "nbformat_minor": 2
}
