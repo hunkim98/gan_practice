{
 "cells": [
  {
   "cell_type": "code",
   "execution_count": 3,
   "metadata": {},
   "outputs": [
    {
     "name": "stdout",
     "output_type": "stream",
     "text": [
      "100%|████████████████████████████████████████| 701/701 [00:04<00:00, 150.23it/s]\n"
     ]
    }
   ],
   "source": [
    "!python dataset_tool.py --source=./datasets/flat_256 --dest=./datasets/flat_256.zip"
   ]
  },
  {
   "cell_type": "code",
   "execution_count": null,
   "metadata": {},
   "outputs": [],
   "source": [
    "# run the below in terminal in tmux\n",
    "!python train.py --outdir=./results/flat_256 --data=./datasets/flat_256.zip --gpus=1 --augpipe=bg --gamma=10 --cfg=paper256 --snap=10 --kimg=1 --metrics=none"
   ]
  }
 ],
 "metadata": {
  "kernelspec": {
   "display_name": ".venv",
   "language": "python",
   "name": "python3"
  },
  "language_info": {
   "codemirror_mode": {
    "name": "ipython",
    "version": 3
   },
   "file_extension": ".py",
   "mimetype": "text/x-python",
   "name": "python",
   "nbconvert_exporter": "python",
   "pygments_lexer": "ipython3",
   "version": "3.8.12"
  },
  "orig_nbformat": 4
 },
 "nbformat": 4,
 "nbformat_minor": 2
}
